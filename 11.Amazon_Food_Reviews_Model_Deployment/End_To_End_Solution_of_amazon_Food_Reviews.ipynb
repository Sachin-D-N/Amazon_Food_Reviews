{
 "cells": [
  {
   "cell_type": "code",
   "execution_count": 1,
   "metadata": {
    "id": "HXGWTJ92ylRh"
   },
   "outputs": [],
   "source": [
    "import numpy as np\n",
    "import pandas as pd"
   ]
  },
  {
   "cell_type": "code",
   "execution_count": 2,
   "metadata": {
    "colab": {
     "base_uri": "https://localhost:8080/"
    },
    "id": "lYIKgLGTzTuG",
    "outputId": "45f292fb-484b-452c-dc88-00e5b23881ec"
   },
   "outputs": [
    {
     "name": "stdout",
     "output_type": "stream",
     "text": [
      "Mounted at /content/drive\n"
     ]
    }
   ],
   "source": [
    "from google.colab import drive\n",
    "drive.mount('/content/drive')"
   ]
  },
  {
   "cell_type": "markdown",
   "metadata": {
    "id": "ZOHNX9T4z4DP"
   },
   "source": [
    "Amazon Fine Food Reviews Analysis¶\n",
    "Data Source: https://www.kaggle.com/snap/amazon-fine-food-reviews\n",
    "\n",
    "EDA: https://nycdatascience.com/blog/student-works/amazon-fine-foods-visualization/\n",
    "\n",
    "The Amazon Fine Food Reviews dataset consists of reviews of fine foods from Amazon.\n",
    "\n",
    "Number of reviews: 568,454\n",
    "Number of users: 256,059\n",
    "Number of products: 74,258\n",
    "Timespan: Oct 1999 - Oct 2012\n",
    "Number of Attributes/Columns in data: 10\n",
    "\n",
    "Attribute Information:\n",
    "\n",
    "Id\n",
    "ProductId - unique identifier for the product\n",
    "UserId - unqiue identifier for the user\n",
    "ProfileName\n",
    "HelpfulnessNumerator - number of users who found the review helpful\n",
    "HelpfulnessDenominator - number of users who indicated whether they found the review helpful or not\n",
    "Score - rating between 1 and 5\n",
    "Time - timestamp for the review\n",
    "Summary - brief summary of the review\n",
    "Text - text of the review\n",
    "Objective:\n",
    "Given a review, determine whether the review is positive (Rating of 4 or 5) or negative (rating of 1 or 2).\n",
    "\n",
    "\n",
    "[Q] How to determine if a review is positive or negative?\n",
    "\n",
    "\n",
    "[Ans] We could use the Score/Rating. A rating of 4 or 5 could be cosnidered a positive review. A review of 1 or 2 could be considered negative. A review of 3 is nuetral and ignored. This is an approximate and proxy way of determining the polarity (positivity/negativity) of a review.\n",
    "\n",
    "Loading the data\n",
    "The dataset is available in two forms\n",
    "\n",
    ".csv file\n",
    "SQLite Database\n",
    "In order to load the data, We have used the SQLITE dataset as it easier to query the data and visualise the data efficiently.\n",
    "\n",
    "Here as we only want to get the global sentiment of the recommendations (positive or negative), we will purposefully ignore all Scores equal to 3. If the score id above 3, then the recommendation wil be set to \"positive\". Otherwise, it will be set to \"negative\"."
   ]
  },
  {
   "cell_type": "markdown",
   "metadata": {
    "id": "2LqI6ZoI2ZeY"
   },
   "source": [
    "###  we already strored the preprocessed_data in a file to know the preprocessing steps visit <a href='https://github.com/Sachin-D-N/Amazon_Food_Reviews/blob/main/01.Amazon_Fine_Food_Review_Analysis_Featurization/Amazon%20Fine%20Food%20Reviews%20Analysis.ipynb'>here </a>"
   ]
  },
  {
   "cell_type": "code",
   "execution_count": 2,
   "metadata": {
    "id": "W1xDxHtCzVJN"
   },
   "outputs": [],
   "source": [
    "#loading the preprocessed_data\n",
    "data=pd.read_csv('preprocessed_data.csv',nrows=25000)"
   ]
  },
  {
   "cell_type": "code",
   "execution_count": 3,
   "metadata": {
    "colab": {
     "base_uri": "https://localhost:8080/",
     "height": 337
    },
    "id": "JVG-H1BV2126",
    "outputId": "f91b2fd4-cb7e-4f8d-f1d2-73ccf6b85e34"
   },
   "outputs": [
    {
     "data": {
      "text/html": [
       "<div>\n",
       "<style scoped>\n",
       "    .dataframe tbody tr th:only-of-type {\n",
       "        vertical-align: middle;\n",
       "    }\n",
       "\n",
       "    .dataframe tbody tr th {\n",
       "        vertical-align: top;\n",
       "    }\n",
       "\n",
       "    .dataframe thead th {\n",
       "        text-align: right;\n",
       "    }\n",
       "</style>\n",
       "<table border=\"1\" class=\"dataframe\">\n",
       "  <thead>\n",
       "    <tr style=\"text-align: right;\">\n",
       "      <th></th>\n",
       "      <th>Id</th>\n",
       "      <th>ProductId</th>\n",
       "      <th>UserId</th>\n",
       "      <th>ProfileName</th>\n",
       "      <th>HelpfulnessNumerator</th>\n",
       "      <th>HelpfulnessDenominator</th>\n",
       "      <th>Score</th>\n",
       "      <th>Time</th>\n",
       "      <th>Summary</th>\n",
       "      <th>Text</th>\n",
       "      <th>preprocessed_reviews</th>\n",
       "      <th>preprocessed_summary</th>\n",
       "    </tr>\n",
       "  </thead>\n",
       "  <tbody>\n",
       "    <tr>\n",
       "      <th>0</th>\n",
       "      <td>150524</td>\n",
       "      <td>0006641040</td>\n",
       "      <td>ACITT7DI6IDDL</td>\n",
       "      <td>shari zychinski</td>\n",
       "      <td>0</td>\n",
       "      <td>0</td>\n",
       "      <td>1</td>\n",
       "      <td>939340800</td>\n",
       "      <td>EVERY book is educational</td>\n",
       "      <td>this witty little book makes my son laugh at l...</td>\n",
       "      <td>witti littl book make son laugh loud recit car...</td>\n",
       "      <td>everi book educ</td>\n",
       "    </tr>\n",
       "    <tr>\n",
       "      <th>1</th>\n",
       "      <td>150506</td>\n",
       "      <td>0006641040</td>\n",
       "      <td>A2IW4PEEKO2R0U</td>\n",
       "      <td>Tracy</td>\n",
       "      <td>1</td>\n",
       "      <td>1</td>\n",
       "      <td>1</td>\n",
       "      <td>1194739200</td>\n",
       "      <td>Love the book, miss the hard cover version</td>\n",
       "      <td>I grew up reading these Sendak books, and watc...</td>\n",
       "      <td>grew read sendak book watch realli rosi movi i...</td>\n",
       "      <td>love book miss hard cover version</td>\n",
       "    </tr>\n",
       "    <tr>\n",
       "      <th>2</th>\n",
       "      <td>150507</td>\n",
       "      <td>0006641040</td>\n",
       "      <td>A1S4A3IQ2MU7V4</td>\n",
       "      <td>sally sue \"sally sue\"</td>\n",
       "      <td>1</td>\n",
       "      <td>1</td>\n",
       "      <td>1</td>\n",
       "      <td>1191456000</td>\n",
       "      <td>chicken soup with rice months</td>\n",
       "      <td>This is a fun way for children to learn their ...</td>\n",
       "      <td>fun way children learn month year learn poem t...</td>\n",
       "      <td>chicken soup rice month</td>\n",
       "    </tr>\n",
       "    <tr>\n",
       "      <th>3</th>\n",
       "      <td>150508</td>\n",
       "      <td>0006641040</td>\n",
       "      <td>AZGXZ2UUK6X</td>\n",
       "      <td>Catherine Hallberg \"(Kate)\"</td>\n",
       "      <td>1</td>\n",
       "      <td>1</td>\n",
       "      <td>1</td>\n",
       "      <td>1076025600</td>\n",
       "      <td>a good swingy rhythm for reading aloud</td>\n",
       "      <td>This is a great little book to read aloud- it ...</td>\n",
       "      <td>great littl book read aloud nice rhythm well g...</td>\n",
       "      <td>good swingi rhythm read aloud</td>\n",
       "    </tr>\n",
       "    <tr>\n",
       "      <th>4</th>\n",
       "      <td>150509</td>\n",
       "      <td>0006641040</td>\n",
       "      <td>A3CMRKGE0P909G</td>\n",
       "      <td>Teresa</td>\n",
       "      <td>3</td>\n",
       "      <td>4</td>\n",
       "      <td>1</td>\n",
       "      <td>1018396800</td>\n",
       "      <td>A great way to learn the months</td>\n",
       "      <td>This is a book of poetry about the months of t...</td>\n",
       "      <td>book poetri month year goe month cute littl po...</td>\n",
       "      <td>great way learn month</td>\n",
       "    </tr>\n",
       "  </tbody>\n",
       "</table>\n",
       "</div>"
      ],
      "text/plain": [
       "       Id   ProductId          UserId                  ProfileName  \\\n",
       "0  150524  0006641040   ACITT7DI6IDDL              shari zychinski   \n",
       "1  150506  0006641040  A2IW4PEEKO2R0U                        Tracy   \n",
       "2  150507  0006641040  A1S4A3IQ2MU7V4        sally sue \"sally sue\"   \n",
       "3  150508  0006641040     AZGXZ2UUK6X  Catherine Hallberg \"(Kate)\"   \n",
       "4  150509  0006641040  A3CMRKGE0P909G                       Teresa   \n",
       "\n",
       "   HelpfulnessNumerator  HelpfulnessDenominator  Score        Time  \\\n",
       "0                     0                       0      1   939340800   \n",
       "1                     1                       1      1  1194739200   \n",
       "2                     1                       1      1  1191456000   \n",
       "3                     1                       1      1  1076025600   \n",
       "4                     3                       4      1  1018396800   \n",
       "\n",
       "                                      Summary  \\\n",
       "0                   EVERY book is educational   \n",
       "1  Love the book, miss the hard cover version   \n",
       "2               chicken soup with rice months   \n",
       "3      a good swingy rhythm for reading aloud   \n",
       "4             A great way to learn the months   \n",
       "\n",
       "                                                Text  \\\n",
       "0  this witty little book makes my son laugh at l...   \n",
       "1  I grew up reading these Sendak books, and watc...   \n",
       "2  This is a fun way for children to learn their ...   \n",
       "3  This is a great little book to read aloud- it ...   \n",
       "4  This is a book of poetry about the months of t...   \n",
       "\n",
       "                                preprocessed_reviews  \\\n",
       "0  witti littl book make son laugh loud recit car...   \n",
       "1  grew read sendak book watch realli rosi movi i...   \n",
       "2  fun way children learn month year learn poem t...   \n",
       "3  great littl book read aloud nice rhythm well g...   \n",
       "4  book poetri month year goe month cute littl po...   \n",
       "\n",
       "                preprocessed_summary  \n",
       "0                    everi book educ  \n",
       "1  love book miss hard cover version  \n",
       "2            chicken soup rice month  \n",
       "3      good swingi rhythm read aloud  \n",
       "4              great way learn month  "
      ]
     },
     "execution_count": 3,
     "metadata": {},
     "output_type": "execute_result"
    }
   ],
   "source": [
    "data.head()"
   ]
  },
  {
   "cell_type": "code",
   "execution_count": 4,
   "metadata": {
    "colab": {
     "base_uri": "https://localhost:8080/"
    },
    "id": "slGjia6v25PT",
    "outputId": "a1ebd313-49df-47a4-8b02-8cdb68b7fe57"
   },
   "outputs": [
    {
     "name": "stdout",
     "output_type": "stream",
     "text": [
      "<class 'pandas.core.frame.DataFrame'>\n",
      "RangeIndex: 25000 entries, 0 to 24999\n",
      "Data columns (total 12 columns):\n",
      "Id                        25000 non-null int64\n",
      "ProductId                 25000 non-null object\n",
      "UserId                    25000 non-null object\n",
      "ProfileName               24999 non-null object\n",
      "HelpfulnessNumerator      25000 non-null int64\n",
      "HelpfulnessDenominator    25000 non-null int64\n",
      "Score                     25000 non-null int64\n",
      "Time                      25000 non-null int64\n",
      "Summary                   24999 non-null object\n",
      "Text                      25000 non-null object\n",
      "preprocessed_reviews      25000 non-null object\n",
      "preprocessed_summary      24907 non-null object\n",
      "dtypes: int64(5), object(7)\n",
      "memory usage: 2.3+ MB\n"
     ]
    }
   ],
   "source": [
    "data.info()"
   ]
  },
  {
   "cell_type": "code",
   "execution_count": 5,
   "metadata": {
    "colab": {
     "base_uri": "https://localhost:8080/",
     "height": 277
    },
    "id": "Pwalm-RG29Bi",
    "outputId": "9d4e7acf-bf6f-4d32-8769-ebae7946f778"
   },
   "outputs": [
    {
     "data": {
      "text/html": [
       "<div>\n",
       "<style scoped>\n",
       "    .dataframe tbody tr th:only-of-type {\n",
       "        vertical-align: middle;\n",
       "    }\n",
       "\n",
       "    .dataframe tbody tr th {\n",
       "        vertical-align: top;\n",
       "    }\n",
       "\n",
       "    .dataframe thead th {\n",
       "        text-align: right;\n",
       "    }\n",
       "</style>\n",
       "<table border=\"1\" class=\"dataframe\">\n",
       "  <thead>\n",
       "    <tr style=\"text-align: right;\">\n",
       "      <th></th>\n",
       "      <th>Id</th>\n",
       "      <th>HelpfulnessNumerator</th>\n",
       "      <th>HelpfulnessDenominator</th>\n",
       "      <th>Score</th>\n",
       "      <th>Time</th>\n",
       "    </tr>\n",
       "  </thead>\n",
       "  <tbody>\n",
       "    <tr>\n",
       "      <th>count</th>\n",
       "      <td>25000.000000</td>\n",
       "      <td>25000.000000</td>\n",
       "      <td>25000.000000</td>\n",
       "      <td>25000.000000</td>\n",
       "      <td>2.500000e+04</td>\n",
       "    </tr>\n",
       "    <tr>\n",
       "      <th>mean</th>\n",
       "      <td>283829.126960</td>\n",
       "      <td>2.616200</td>\n",
       "      <td>3.234720</td>\n",
       "      <td>0.848160</td>\n",
       "      <td>1.264441e+09</td>\n",
       "    </tr>\n",
       "    <tr>\n",
       "      <th>std</th>\n",
       "      <td>160268.109214</td>\n",
       "      <td>9.125476</td>\n",
       "      <td>10.065458</td>\n",
       "      <td>0.358873</td>\n",
       "      <td>7.021914e+07</td>\n",
       "    </tr>\n",
       "    <tr>\n",
       "      <th>min</th>\n",
       "      <td>11.000000</td>\n",
       "      <td>0.000000</td>\n",
       "      <td>0.000000</td>\n",
       "      <td>0.000000</td>\n",
       "      <td>9.393408e+08</td>\n",
       "    </tr>\n",
       "    <tr>\n",
       "      <th>25%</th>\n",
       "      <td>149819.750000</td>\n",
       "      <td>0.000000</td>\n",
       "      <td>0.000000</td>\n",
       "      <td>1.000000</td>\n",
       "      <td>1.213747e+09</td>\n",
       "    </tr>\n",
       "    <tr>\n",
       "      <th>50%</th>\n",
       "      <td>276397.500000</td>\n",
       "      <td>1.000000</td>\n",
       "      <td>1.000000</td>\n",
       "      <td>1.000000</td>\n",
       "      <td>1.284682e+09</td>\n",
       "    </tr>\n",
       "    <tr>\n",
       "      <th>75%</th>\n",
       "      <td>424337.250000</td>\n",
       "      <td>2.000000</td>\n",
       "      <td>3.000000</td>\n",
       "      <td>1.000000</td>\n",
       "      <td>1.323994e+09</td>\n",
       "    </tr>\n",
       "    <tr>\n",
       "      <th>max</th>\n",
       "      <td>568418.000000</td>\n",
       "      <td>466.000000</td>\n",
       "      <td>488.000000</td>\n",
       "      <td>1.000000</td>\n",
       "      <td>1.351210e+09</td>\n",
       "    </tr>\n",
       "  </tbody>\n",
       "</table>\n",
       "</div>"
      ],
      "text/plain": [
       "                  Id  HelpfulnessNumerator  HelpfulnessDenominator  \\\n",
       "count   25000.000000          25000.000000            25000.000000   \n",
       "mean   283829.126960              2.616200                3.234720   \n",
       "std    160268.109214              9.125476               10.065458   \n",
       "min        11.000000              0.000000                0.000000   \n",
       "25%    149819.750000              0.000000                0.000000   \n",
       "50%    276397.500000              1.000000                1.000000   \n",
       "75%    424337.250000              2.000000                3.000000   \n",
       "max    568418.000000            466.000000              488.000000   \n",
       "\n",
       "              Score          Time  \n",
       "count  25000.000000  2.500000e+04  \n",
       "mean       0.848160  1.264441e+09  \n",
       "std        0.358873  7.021914e+07  \n",
       "min        0.000000  9.393408e+08  \n",
       "25%        1.000000  1.213747e+09  \n",
       "50%        1.000000  1.284682e+09  \n",
       "75%        1.000000  1.323994e+09  \n",
       "max        1.000000  1.351210e+09  "
      ]
     },
     "execution_count": 5,
     "metadata": {},
     "output_type": "execute_result"
    }
   ],
   "source": [
    "data.describe()"
   ]
  },
  {
   "cell_type": "code",
   "execution_count": 6,
   "metadata": {
    "colab": {
     "base_uri": "https://localhost:8080/"
    },
    "id": "CHREjsvf3Cvq",
    "outputId": "76e4ec28-f00b-46ef-ca15-fed6d9336f31"
   },
   "outputs": [
    {
     "data": {
      "text/plain": [
       "1    21204\n",
       "0     3796\n",
       "Name: Score, dtype: int64"
      ]
     },
     "execution_count": 6,
     "metadata": {},
     "output_type": "execute_result"
    }
   ],
   "source": [
    "data['Score'].value_counts()"
   ]
  },
  {
   "cell_type": "code",
   "execution_count": 7,
   "metadata": {
    "id": "9WTjp-6H3UD0"
   },
   "outputs": [],
   "source": [
    "#importing libraries\n",
    "\n",
    "import matplotlib.pyplot as plt\n",
    "import seaborn as sns\n",
    "from sklearn.feature_extraction.text import TfidfTransformer\n",
    "from sklearn.feature_extraction.text import TfidfVectorizer\n",
    "\n",
    "from sklearn.feature_extraction.text import CountVectorizer\n",
    "from sklearn.metrics import confusion_matrix\n",
    "from sklearn import metrics\n",
    "from sklearn.metrics import roc_curve, auc\n",
    "from nltk.stem.porter import PorterStemmer"
   ]
  },
  {
   "cell_type": "code",
   "execution_count": 8,
   "metadata": {
    "colab": {
     "base_uri": "https://localhost:8080/",
     "height": 381
    },
    "id": "urSLYK-R4Fo8",
    "outputId": "9728b508-852f-4d45-94d0-aa251e4ce44d"
   },
   "outputs": [
    {
     "data": {
      "text/plain": [
       "<matplotlib.axes._subplots.AxesSubplot at 0x1a54486e0f0>"
      ]
     },
     "execution_count": 8,
     "metadata": {},
     "output_type": "execute_result"
    },
    {
     "data": {
      "image/png": "[encoded data removed]",
      "text/plain": [
       "<Figure size 432x288 with 1 Axes>"
      ]
     },
     "metadata": {},
     "output_type": "display_data"
    }
   ],
   "source": [
    "#plotting of value counts\n",
    "sns.set()\n",
    "sns.distplot(data['Score'], kde = False,color=\"r\")"
   ]
  },
  {
   "cell_type": "code",
   "execution_count": 9,
   "metadata": {
    "id": "ytpDJ80k6ecJ"
   },
   "outputs": [],
   "source": [
    "#sorting the data with reppect to time\n",
    "data=data.sort_values('Time',ascending=True,axis=0)"
   ]
  },
  {
   "cell_type": "code",
   "execution_count": 10,
   "metadata": {
    "colab": {
     "base_uri": "https://localhost:8080/",
     "height": 353
    },
    "id": "zaF_xia2-1oz",
    "outputId": "643a93f6-dacd-44d3-a05a-ef745bbe79b2"
   },
   "outputs": [
    {
     "data": {
      "text/html": [
       "<div>\n",
       "<style scoped>\n",
       "    .dataframe tbody tr th:only-of-type {\n",
       "        vertical-align: middle;\n",
       "    }\n",
       "\n",
       "    .dataframe tbody tr th {\n",
       "        vertical-align: top;\n",
       "    }\n",
       "\n",
       "    .dataframe thead th {\n",
       "        text-align: right;\n",
       "    }\n",
       "</style>\n",
       "<table border=\"1\" class=\"dataframe\">\n",
       "  <thead>\n",
       "    <tr style=\"text-align: right;\">\n",
       "      <th></th>\n",
       "      <th>Id</th>\n",
       "      <th>ProductId</th>\n",
       "      <th>UserId</th>\n",
       "      <th>ProfileName</th>\n",
       "      <th>HelpfulnessNumerator</th>\n",
       "      <th>HelpfulnessDenominator</th>\n",
       "      <th>Score</th>\n",
       "      <th>Time</th>\n",
       "      <th>Summary</th>\n",
       "      <th>Text</th>\n",
       "      <th>preprocessed_reviews</th>\n",
       "      <th>preprocessed_summary</th>\n",
       "    </tr>\n",
       "  </thead>\n",
       "  <tbody>\n",
       "    <tr>\n",
       "      <th>0</th>\n",
       "      <td>150524</td>\n",
       "      <td>0006641040</td>\n",
       "      <td>ACITT7DI6IDDL</td>\n",
       "      <td>shari zychinski</td>\n",
       "      <td>0</td>\n",
       "      <td>0</td>\n",
       "      <td>1</td>\n",
       "      <td>939340800</td>\n",
       "      <td>EVERY book is educational</td>\n",
       "      <td>this witty little book makes my son laugh at l...</td>\n",
       "      <td>witti littl book make son laugh loud recit car...</td>\n",
       "      <td>everi book educ</td>\n",
       "    </tr>\n",
       "    <tr>\n",
       "      <th>30</th>\n",
       "      <td>150501</td>\n",
       "      <td>0006641040</td>\n",
       "      <td>AJ46FKXOVC7NR</td>\n",
       "      <td>Nicholas A Mesiano</td>\n",
       "      <td>2</td>\n",
       "      <td>2</td>\n",
       "      <td>1</td>\n",
       "      <td>940809600</td>\n",
       "      <td>This whole series is great way to spend time w...</td>\n",
       "      <td>I can remember seeing the show when it aired o...</td>\n",
       "      <td>rememb see show air televis year ago child sis...</td>\n",
       "      <td>whole seri great way spend time child</td>\n",
       "    </tr>\n",
       "    <tr>\n",
       "      <th>424</th>\n",
       "      <td>451856</td>\n",
       "      <td>B00004CXX9</td>\n",
       "      <td>AIUWLEQ1ADEG5</td>\n",
       "      <td>Elizabeth Medina</td>\n",
       "      <td>0</td>\n",
       "      <td>0</td>\n",
       "      <td>1</td>\n",
       "      <td>944092800</td>\n",
       "      <td>Entertainingl Funny!</td>\n",
       "      <td>Beetlejuice is a well written movie ..... ever...</td>\n",
       "      <td>beetlejuic well written movi everyth excel act...</td>\n",
       "      <td>entertainingl funni</td>\n",
       "    </tr>\n",
       "    <tr>\n",
       "      <th>330</th>\n",
       "      <td>374359</td>\n",
       "      <td>B00004CI84</td>\n",
       "      <td>A344SMIA5JECGM</td>\n",
       "      <td>Vincent P. Ross</td>\n",
       "      <td>1</td>\n",
       "      <td>2</td>\n",
       "      <td>1</td>\n",
       "      <td>944438400</td>\n",
       "      <td>A modern day fairy tale</td>\n",
       "      <td>A twist of rumplestiskin captured on film, sta...</td>\n",
       "      <td>twist rumplestiskin captur film star michael k...</td>\n",
       "      <td>modern day fairi tale</td>\n",
       "    </tr>\n",
       "    <tr>\n",
       "      <th>423</th>\n",
       "      <td>451855</td>\n",
       "      <td>B00004CXX9</td>\n",
       "      <td>AJH6LUC1UT1ON</td>\n",
       "      <td>The Phantom of the Opera</td>\n",
       "      <td>0</td>\n",
       "      <td>0</td>\n",
       "      <td>1</td>\n",
       "      <td>946857600</td>\n",
       "      <td>FANTASTIC!</td>\n",
       "      <td>Beetlejuice is an excellent and funny movie. K...</td>\n",
       "      <td>beetlejuic excel funni movi keaton hilari wack...</td>\n",
       "      <td>fantast</td>\n",
       "    </tr>\n",
       "  </tbody>\n",
       "</table>\n",
       "</div>"
      ],
      "text/plain": [
       "         Id   ProductId          UserId               ProfileName  \\\n",
       "0    150524  0006641040   ACITT7DI6IDDL           shari zychinski   \n",
       "30   150501  0006641040   AJ46FKXOVC7NR        Nicholas A Mesiano   \n",
       "424  451856  B00004CXX9   AIUWLEQ1ADEG5          Elizabeth Medina   \n",
       "330  374359  B00004CI84  A344SMIA5JECGM           Vincent P. Ross   \n",
       "423  451855  B00004CXX9   AJH6LUC1UT1ON  The Phantom of the Opera   \n",
       "\n",
       "     HelpfulnessNumerator  HelpfulnessDenominator  Score       Time  \\\n",
       "0                       0                       0      1  939340800   \n",
       "30                      2                       2      1  940809600   \n",
       "424                     0                       0      1  944092800   \n",
       "330                     1                       2      1  944438400   \n",
       "423                     0                       0      1  946857600   \n",
       "\n",
       "                                               Summary  \\\n",
       "0                            EVERY book is educational   \n",
       "30   This whole series is great way to spend time w...   \n",
       "424                               Entertainingl Funny!   \n",
       "330                            A modern day fairy tale   \n",
       "423                                         FANTASTIC!   \n",
       "\n",
       "                                                  Text  \\\n",
       "0    this witty little book makes my son laugh at l...   \n",
       "30   I can remember seeing the show when it aired o...   \n",
       "424  Beetlejuice is a well written movie ..... ever...   \n",
       "330  A twist of rumplestiskin captured on film, sta...   \n",
       "423  Beetlejuice is an excellent and funny movie. K...   \n",
       "\n",
       "                                  preprocessed_reviews  \\\n",
       "0    witti littl book make son laugh loud recit car...   \n",
       "30   rememb see show air televis year ago child sis...   \n",
       "424  beetlejuic well written movi everyth excel act...   \n",
       "330  twist rumplestiskin captur film star michael k...   \n",
       "423  beetlejuic excel funni movi keaton hilari wack...   \n",
       "\n",
       "                      preprocessed_summary  \n",
       "0                          everi book educ  \n",
       "30   whole seri great way spend time child  \n",
       "424                    entertainingl funni  \n",
       "330                  modern day fairi tale  \n",
       "423                                fantast  "
      ]
     },
     "execution_count": 10,
     "metadata": {},
     "output_type": "execute_result"
    }
   ],
   "source": [
    "data.head()"
   ]
  },
  {
   "cell_type": "code",
   "execution_count": 11,
   "metadata": {
    "colab": {
     "base_uri": "https://localhost:8080/",
     "height": 402
    },
    "id": "0-SCQAgHAc2-",
    "outputId": "a199fac0-6791-4f8e-e359-b667e20cecf9"
   },
   "outputs": [
    {
     "data": {
      "text/html": [
       "<div>\n",
       "<style scoped>\n",
       "    .dataframe tbody tr th:only-of-type {\n",
       "        vertical-align: middle;\n",
       "    }\n",
       "\n",
       "    .dataframe tbody tr th {\n",
       "        vertical-align: top;\n",
       "    }\n",
       "\n",
       "    .dataframe thead th {\n",
       "        text-align: right;\n",
       "    }\n",
       "</style>\n",
       "<table border=\"1\" class=\"dataframe\">\n",
       "  <thead>\n",
       "    <tr style=\"text-align: right;\">\n",
       "      <th></th>\n",
       "      <th>Id</th>\n",
       "      <th>ProductId</th>\n",
       "      <th>UserId</th>\n",
       "      <th>ProfileName</th>\n",
       "      <th>HelpfulnessNumerator</th>\n",
       "      <th>HelpfulnessDenominator</th>\n",
       "      <th>Score</th>\n",
       "      <th>Time</th>\n",
       "      <th>Summary</th>\n",
       "      <th>Text</th>\n",
       "      <th>preprocessed_reviews</th>\n",
       "      <th>preprocessed_summary</th>\n",
       "    </tr>\n",
       "  </thead>\n",
       "  <tbody>\n",
       "    <tr>\n",
       "      <th>6518</th>\n",
       "      <td>379063</td>\n",
       "      <td>B0000V1B3E</td>\n",
       "      <td>A3PKAVKWFFT0GC</td>\n",
       "      <td>FinGurBang</td>\n",
       "      <td>0</td>\n",
       "      <td>0</td>\n",
       "      <td>0</td>\n",
       "      <td>1351209600</td>\n",
       "      <td>Want To Pay $31.51 Lb For Loose Tea That's Med...</td>\n",
       "      <td>Holy cow, when I placed my order for 24 indivi...</td>\n",
       "      <td>holi cow place order individu packet assum pac...</td>\n",
       "      <td>want pay loos tea mediocr best look</td>\n",
       "    </tr>\n",
       "    <tr>\n",
       "      <th>11605</th>\n",
       "      <td>157173</td>\n",
       "      <td>B0001IOSCM</td>\n",
       "      <td>A25YYMCNXA2RC0</td>\n",
       "      <td>Libbia</td>\n",
       "      <td>0</td>\n",
       "      <td>0</td>\n",
       "      <td>1</td>\n",
       "      <td>1351209600</td>\n",
       "      <td>Simple and Authentic</td>\n",
       "      <td>This is a fantastic do-it-yourself poke produc...</td>\n",
       "      <td>fantast poke product add sesam oil green onion...</td>\n",
       "      <td>simpl authent</td>\n",
       "    </tr>\n",
       "    <tr>\n",
       "      <th>15226</th>\n",
       "      <td>295923</td>\n",
       "      <td>B0002DGL26</td>\n",
       "      <td>A3SZ0N66423CE5</td>\n",
       "      <td>Cynthia Z. Wrinn</td>\n",
       "      <td>0</td>\n",
       "      <td>0</td>\n",
       "      <td>0</td>\n",
       "      <td>1351209600</td>\n",
       "      <td>plastic chew</td>\n",
       "      <td>Puppy didn't care for this. Older dog chews on...</td>\n",
       "      <td>puppi not care older dog chew not sure much ge...</td>\n",
       "      <td>plastic chew</td>\n",
       "    </tr>\n",
       "    <tr>\n",
       "      <th>11519</th>\n",
       "      <td>542900</td>\n",
       "      <td>B0001HAEJY</td>\n",
       "      <td>A289SYWE4BHCF</td>\n",
       "      <td>akilah</td>\n",
       "      <td>0</td>\n",
       "      <td>0</td>\n",
       "      <td>1</td>\n",
       "      <td>1351209600</td>\n",
       "      <td>Great!</td>\n",
       "      <td>Very good product, great for your blood! You w...</td>\n",
       "      <td>good product great blood love aim wonder produ...</td>\n",
       "      <td>great</td>\n",
       "    </tr>\n",
       "    <tr>\n",
       "      <th>9663</th>\n",
       "      <td>237940</td>\n",
       "      <td>B00018CWN4</td>\n",
       "      <td>A37264CFSSA73O</td>\n",
       "      <td>Andrea</td>\n",
       "      <td>0</td>\n",
       "      <td>0</td>\n",
       "      <td>1</td>\n",
       "      <td>1351209600</td>\n",
       "      <td>Great quality!</td>\n",
       "      <td>This product is very good and I won't change i...</td>\n",
       "      <td>product good not chang brand nor vendor made c...</td>\n",
       "      <td>great qualiti</td>\n",
       "    </tr>\n",
       "  </tbody>\n",
       "</table>\n",
       "</div>"
      ],
      "text/plain": [
       "           Id   ProductId          UserId       ProfileName  \\\n",
       "6518   379063  B0000V1B3E  A3PKAVKWFFT0GC        FinGurBang   \n",
       "11605  157173  B0001IOSCM  A25YYMCNXA2RC0            Libbia   \n",
       "15226  295923  B0002DGL26  A3SZ0N66423CE5  Cynthia Z. Wrinn   \n",
       "11519  542900  B0001HAEJY   A289SYWE4BHCF            akilah   \n",
       "9663   237940  B00018CWN4  A37264CFSSA73O            Andrea   \n",
       "\n",
       "       HelpfulnessNumerator  HelpfulnessDenominator  Score        Time  \\\n",
       "6518                      0                       0      0  1351209600   \n",
       "11605                     0                       0      1  1351209600   \n",
       "15226                     0                       0      0  1351209600   \n",
       "11519                     0                       0      1  1351209600   \n",
       "9663                      0                       0      1  1351209600   \n",
       "\n",
       "                                                 Summary  \\\n",
       "6518   Want To Pay $31.51 Lb For Loose Tea That's Med...   \n",
       "11605                               Simple and Authentic   \n",
       "15226                                       plastic chew   \n",
       "11519                                             Great!   \n",
       "9663                                      Great quality!   \n",
       "\n",
       "                                                    Text  \\\n",
       "6518   Holy cow, when I placed my order for 24 indivi...   \n",
       "11605  This is a fantastic do-it-yourself poke produc...   \n",
       "15226  Puppy didn't care for this. Older dog chews on...   \n",
       "11519  Very good product, great for your blood! You w...   \n",
       "9663   This product is very good and I won't change i...   \n",
       "\n",
       "                                    preprocessed_reviews  \\\n",
       "6518   holi cow place order individu packet assum pac...   \n",
       "11605  fantast poke product add sesam oil green onion...   \n",
       "15226  puppi not care older dog chew not sure much ge...   \n",
       "11519  good product great blood love aim wonder produ...   \n",
       "9663   product good not chang brand nor vendor made c...   \n",
       "\n",
       "                      preprocessed_summary  \n",
       "6518   want pay loos tea mediocr best look  \n",
       "11605                        simpl authent  \n",
       "15226                         plastic chew  \n",
       "11519                                great  \n",
       "9663                         great qualiti  "
      ]
     },
     "execution_count": 11,
     "metadata": {},
     "output_type": "execute_result"
    }
   ],
   "source": [
    "data.tail()"
   ]
  },
  {
   "cell_type": "code",
   "execution_count": 12,
   "metadata": {
    "id": "R1P8Nwf_-3wu"
   },
   "outputs": [],
   "source": [
    "#use preprocessed_reviews and score for building a model\n",
    "X=data['preprocessed_reviews'].values\n",
    "Y=data['Score'].values"
   ]
  },
  {
   "cell_type": "code",
   "execution_count": 13,
   "metadata": {
    "colab": {
     "base_uri": "https://localhost:8080/"
    },
    "id": "8IcLgupM_0Mh",
    "outputId": "4d8e4192-bfe1-4165-cd30-b1b1ca13a48b"
   },
   "outputs": [
    {
     "name": "stdout",
     "output_type": "stream",
     "text": [
      "(25000,)\n",
      "(25000,)\n"
     ]
    }
   ],
   "source": [
    "print(X.shape)\n",
    "print(Y.shape)"
   ]
  },
  {
   "cell_type": "code",
   "execution_count": 14,
   "metadata": {
    "colab": {
     "base_uri": "https://localhost:8080/"
    },
    "id": "RIFJ4Tfp_5Zx",
    "outputId": "6ea10d69-a5c6-4c8a-ec9e-6262033f05d2"
   },
   "outputs": [
    {
     "data": {
      "text/plain": [
       "array(['witti littl book make son laugh loud recit car drive along alway sing refrain learn whale india droop rose love new word book introduc silli classic book will bet son still abl recit memori colleg',\n",
       "       'rememb see show air televis year ago child sister later bought day thirti someth use seri book song student teach preschool turn whole school purchas along book children tradit live',\n",
       "       'beetlejuic well written movi everyth excel act special effect delight chose view movi',\n",
       "       ...,\n",
       "       'puppi not care older dog chew not sure much get chew digest not crazi',\n",
       "       'good product great blood love aim wonder product would definit order product everyth came time manner free damag',\n",
       "       'product good not chang brand nor vendor made chipa tast delici'],\n",
       "      dtype=object)"
      ]
     },
     "execution_count": 14,
     "metadata": {},
     "output_type": "execute_result"
    }
   ],
   "source": [
    "X"
   ]
  },
  {
   "cell_type": "code",
   "execution_count": 15,
   "metadata": {
    "colab": {
     "base_uri": "https://localhost:8080/"
    },
    "id": "fKtOfdIE_7x7",
    "outputId": "a69a8932-4370-4909-e9d3-13af2d233dd0"
   },
   "outputs": [
    {
     "name": "stdout",
     "output_type": "stream",
     "text": [
      "(17500,) (17500,)\n",
      "(7500,) (7500,)\n"
     ]
    }
   ],
   "source": [
    "#define a function for splitting of data\n",
    "from sklearn.model_selection import train_test_split\n",
    "X_train,X_test,Y_train,Y_test=train_test_split(X,Y,test_size=0.3,shuffle=False)\n",
    "print(X_train.shape,Y_train.shape)\n",
    "print(X_test.shape,Y_test.shape)"
   ]
  },
  {
   "cell_type": "code",
   "execution_count": 16,
   "metadata": {
    "colab": {
     "base_uri": "https://localhost:8080/"
    },
    "id": "zCNiXw_CAUms",
    "outputId": "85260c43-810c-46bb-f8f2-923ca2a8f3bb"
   },
   "outputs": [
    {
     "data": {
      "text/plain": [
       "array(['witti littl book make son laugh loud recit car drive along alway sing refrain learn whale india droop rose love new word book introduc silli classic book will bet son still abl recit memori colleg',\n",
       "       'rememb see show air televis year ago child sister later bought day thirti someth use seri book song student teach preschool turn whole school purchas along book children tradit live',\n",
       "       'beetlejuic well written movi everyth excel act special effect delight chose view movi',\n",
       "       ...,\n",
       "       'messi sift litter creat lot dust goe right nose also pan low near entranc result lot spill litter final process disassembl sift reassembl take longer scoop use pan someth els',\n",
       "       'peppercorn arriv time seal air tight thick plastic bag cook regular basi home think tellicherri peppercorn best black pepper tast got varieti peppercorn year ago grinder forgot miss got huge suppli awesom peppercorn stew grinder product probabl size restaur would buy smell tast amaz share neighbor',\n",
       "       'price ridicul love pepsi come not go pay pack pepsi'],\n",
       "      dtype=object)"
      ]
     },
     "execution_count": 16,
     "metadata": {},
     "output_type": "execute_result"
    }
   ],
   "source": [
    "X_train"
   ]
  },
  {
   "cell_type": "code",
   "execution_count": 17,
   "metadata": {
    "colab": {
     "base_uri": "https://localhost:8080/"
    },
    "id": "ynbqjFkEAZmv",
    "outputId": "8de65cba-6616-4e0f-bcdd-d3d99a13ca6b"
   },
   "outputs": [
    {
     "data": {
      "text/plain": [
       "array(['agre previous review note tast pickl pesto exact thought upon tast tast like combin pickl oliv not ined combin not one expect particular want part made almost ined salt come someon enjoy process food top salti go throw stuff away shelf stabl pesto nice idea refriger varieti way',\n",
       "       'love tea hard time find store thrill found avail subscrib save unfortun even first order gone item discontinu not give lot faith subsrib save order specif hard find item',\n",
       "       'favorit noodl bowl time delish piec top deep fri tempura batter littl veggi piec lot flavor well someth like garlic onion whatev definit yummi noodl differ averag noodl bowl well noodl made buckwheat whole wheat look one great thing bowl season packet divid two section one base broth anoth spicy way get spice level right tast great broth not over salti like final point awesom noodl bowl name transalt green raccoon that cute',\n",
       "       ...,\n",
       "       'puppi not care older dog chew not sure much get chew digest not crazi',\n",
       "       'good product great blood love aim wonder product would definit order product everyth came time manner free damag',\n",
       "       'product good not chang brand nor vendor made chipa tast delici'],\n",
       "      dtype=object)"
      ]
     },
     "execution_count": 17,
     "metadata": {},
     "output_type": "execute_result"
    }
   ],
   "source": [
    "X_test"
   ]
  },
  {
   "cell_type": "markdown",
   "metadata": {
    "id": "HJxXmZY7CCqK"
   },
   "source": [
    "## Featurization using TFIDF Vectorizer"
   ]
  },
  {
   "cell_type": "code",
   "execution_count": 18,
   "metadata": {
    "colab": {
     "base_uri": "https://localhost:8080/"
    },
    "id": "y9li0nUCA0fx",
    "outputId": "55bf602a-17ef-42cf-d156-11dfaf90f393"
   },
   "outputs": [
    {
     "name": "stdout",
     "output_type": "stream",
     "text": [
      "(17500, 6826) (17500,)\n",
      "(7500, 6826) (7500,)\n"
     ]
    }
   ],
   "source": [
    "BOW=CountVectorizer(ngram_range=(2,3),min_df=10)\n",
    "X_train_Bow=BOW.fit_transform(X_train)\n",
    "X_test_Bow=BOW.transform(X_test)\n",
    "print(X_train_Bow.shape,Y_train.shape)\n",
    "print(X_test_Bow.shape,Y_test.shape)"
   ]
  },
  {
   "cell_type": "code",
   "execution_count": 19,
   "metadata": {
    "id": "oi0BzcSPRK8J"
   },
   "outputs": [],
   "source": [
    "import pickle\n",
    "pickle.dump(BOW, open('vectorizer.pkl','wb'))"
   ]
  },
  {
   "cell_type": "code",
   "execution_count": 20,
   "metadata": {
    "colab": {
     "base_uri": "https://localhost:8080/"
    },
    "id": "8Jig6-knCgFE",
    "outputId": "abb1f73b-32c6-435d-df70-fdf3cd815111"
   },
   "outputs": [
    {
     "name": "stdout",
     "output_type": "stream",
     "text": [
      "Fitting 5 folds for each of 11 candidates, totalling 55 fits\n"
     ]
    },
    {
     "name": "stderr",
     "output_type": "stream",
     "text": [
      "[Parallel(n_jobs=1)]: Using backend SequentialBackend with 1 concurrent workers.\n",
      "[Parallel(n_jobs=1)]: Done  55 out of  55 | elapsed:    1.2s finished\n"
     ]
    },
    {
     "data": {
      "text/plain": [
       "GridSearchCV(cv=KFold(n_splits=5, random_state=None, shuffle=False),\n",
       "       error_score='raise-deprecating',\n",
       "       estimator=MultinomialNB(alpha=1.0, class_prior=None, fit_prior=True),\n",
       "       fit_params=None, iid='warn', n_jobs=None,\n",
       "       param_grid={'alpha': [1e-05, 0.0001, 0.001, 0.01, 0.1, 1, 10, 100, 1000, 10000, 100000]},\n",
       "       pre_dispatch='2*n_jobs', refit=True, return_train_score=True,\n",
       "       scoring='roc_auc', verbose=1)"
      ]
     },
     "execution_count": 20,
     "metadata": {},
     "output_type": "execute_result"
    }
   ],
   "source": [
    "#compute best alpha using hyperparameter tuning \n",
    "from sklearn.naive_bayes import MultinomialNB\n",
    "from sklearn.model_selection import KFold\n",
    "from sklearn.model_selection import GridSearchCV\n",
    "\n",
    "cv=KFold(n_splits=5) #defining the K-fold cross validation\n",
    "alpha_values = [0.00001,0.0001,0.001,0.01,0.1,1,10,100,1000,10000,100000]#alpha from 10^-5 to 10^5\n",
    "model=MultinomialNB()\n",
    "parameters = {'alpha':alpha_values}\n",
    "clf = GridSearchCV(model,parameters, cv=cv, scoring='roc_auc',return_train_score=True,verbose=1)\n",
    "clf.fit(X_train_Bow, Y_train)"
   ]
  },
  {
   "cell_type": "code",
   "execution_count": 21,
   "metadata": {
    "id": "_jOLcJSzD88e"
   },
   "outputs": [],
   "source": [
    "#defining train and cross_validation\n",
    "\n",
    "train_auc= clf.cv_results_['mean_train_score']\n",
    "train_auc_std= clf.cv_results_['std_train_score']\n",
    "cv_auc = clf.cv_results_['mean_test_score'] \n",
    "cv_auc_std= clf.cv_results_['std_test_score']\n",
    "best_alpha= clf.best_params_['alpha']"
   ]
  },
  {
   "cell_type": "code",
   "execution_count": 22,
   "metadata": {
    "colab": {
     "base_uri": "https://localhost:8080/",
     "height": 301
    },
    "id": "_tSj3s70FKpV",
    "outputId": "c9a83a50-4095-442a-a3bb-0533cf5f0025"
   },
   "outputs": [
    {
     "data": {
      "image/png": "[encoded data removed]",
      "text/plain": [
       "<Figure size 432x288 with 1 Axes>"
      ]
     },
     "metadata": {},
     "output_type": "display_data"
    }
   ],
   "source": [
    "import math\n",
    "\n",
    "sns.set()\n",
    "alpha_values=[math.log(x) for x in alpha_values]\n",
    "plt.plot(alpha_values, train_auc, label='Train AUC')\n",
    "# this code is copied from here: https://stackoverflow.com/a/48803361/4084039\n",
    "plt.gca().fill_between(alpha_values,train_auc - train_auc_std,train_auc + train_auc_std,alpha=0.2,color='darkblue')\n",
    "\n",
    "plt.plot(alpha_values, cv_auc, label='CV AUC')\n",
    "# this code is copied from here: https://stackoverflow.com/a/48803361/4084039\n",
    "plt.gca().fill_between(alpha_values,cv_auc - cv_auc_std,cv_auc + cv_auc_std,alpha=0.2,color='darkorange')\n",
    "plt.scatter(alpha_values, train_auc, label='Train AUC points')\n",
    "plt.scatter(alpha_values, cv_auc, label='CV AUC points')\n",
    "plt.legend()\n",
    "plt.xlabel(\"alpha_values: hyperparameter\")\n",
    "plt.ylabel(\"AUC\")\n",
    "plt.title(\"ERROR PLOTS\")\n",
    "plt.show()"
   ]
  },
  {
   "cell_type": "code",
   "execution_count": 23,
   "metadata": {
    "colab": {
     "base_uri": "https://localhost:8080/"
    },
    "id": "tvl8S4pTFhRh",
    "outputId": "7634a709-3920-418d-f502-a7a90917cbc7"
   },
   "outputs": [
    {
     "name": "stdout",
     "output_type": "stream",
     "text": [
      "Best cross-validation score: 0.861\n",
      "The best alpha from gridsearch : 1\n"
     ]
    }
   ],
   "source": [
    "print(\"Best cross-validation score: {:.3f}\".format(clf.best_score_))\n",
    "print('The best alpha from gridsearch :',best_alpha)"
   ]
  },
  {
   "cell_type": "code",
   "execution_count": 24,
   "metadata": {
    "colab": {
     "base_uri": "https://localhost:8080/"
    },
    "id": "IQkDZKiLFx1i",
    "outputId": "b80cab20-f9de-47de-80c0-be96cf0dd507"
   },
   "outputs": [
    {
     "data": {
      "text/plain": [
       "MultinomialNB(alpha=1, class_prior=None, fit_prior=True)"
      ]
     },
     "execution_count": 24,
     "metadata": {},
     "output_type": "execute_result"
    }
   ],
   "source": [
    "#training the model with best alpha\n",
    "model=MultinomialNB(alpha=1)\n",
    "model.fit(X_train_Bow, Y_train)"
   ]
  },
  {
   "cell_type": "code",
   "execution_count": 25,
   "metadata": {
    "colab": {
     "base_uri": "https://localhost:8080/",
     "height": 317
    },
    "id": "cse3pFSnGd6d",
    "outputId": "a2c47cc8-7377-42be-cb44-2a991e5591c1"
   },
   "outputs": [
    {
     "data": {
      "image/png": "[encoded data removed]",
      "text/plain": [
       "<Figure size 432x288 with 1 Axes>"
      ]
     },
     "metadata": {},
     "output_type": "display_data"
    },
    {
     "name": "stdout",
     "output_type": "stream",
     "text": [
      "The AUC_score of test_data is : 0.8526212903398\n"
     ]
    }
   ],
   "source": [
    "# roc_auc_score(y_true, y_score) the 2nd parameter should be probability estimates of the positive class not the predicted outputs\n",
    "\n",
    "train_fpr, train_tpr, thresholds = roc_curve(Y_train, model.predict_proba(X_train_Bow)[:,1])\n",
    "test_fpr, test_tpr, thresholds = roc_curve(Y_test, model.predict_proba(X_test_Bow)[:,1])\n",
    "\n",
    "sns.set()\n",
    "plt.plot(train_fpr, train_tpr, label=\"train AUC =\"+str(auc(train_fpr, train_tpr)))\n",
    "plt.plot(test_fpr, test_tpr, label=\"test AUC =\"+str(auc(test_fpr, test_tpr)))\n",
    "plt.plot([0, 1], [0, 1], color='green', lw=1, linestyle='--')\n",
    "plt.legend()\n",
    "plt.xlabel(\"False_positive_rate\")\n",
    "plt.ylabel(\"True positive_rate\")    \n",
    "plt.title(\"ROC_Curve\")\n",
    "plt.grid()\n",
    "plt.show()\n",
    "print('The AUC_score of test_data is :',auc(test_fpr, test_tpr))\n"
   ]
  },
  {
   "cell_type": "code",
   "execution_count": 26,
   "metadata": {
    "id": "Zh9_cLlnHHXI"
   },
   "outputs": [],
   "source": [
    "#performance metric\n",
    "from sklearn.metrics import classification_report\n",
    "from sklearn.metrics import confusion_matrix\n",
    "\n",
    "model=MultinomialNB(alpha=0.1)\n",
    "model.fit(X_train_Bow, Y_train)\n",
    "predict=model.predict(X_test_Bow)\n"
   ]
  },
  {
   "cell_type": "code",
   "execution_count": 27,
   "metadata": {
    "colab": {
     "base_uri": "https://localhost:8080/",
     "height": 447
    },
    "id": "jIwt1R3tHxDd",
    "outputId": "4cfe734f-0db6-4652-9d57-dae1e553b0c5"
   },
   "outputs": [
    {
     "name": "stdout",
     "output_type": "stream",
     "text": [
      "              precision    recall  f1-score   support\n",
      "\n",
      "           0       0.67      0.50      0.57      1361\n",
      "           1       0.90      0.95      0.92      6139\n",
      "\n",
      "   micro avg       0.86      0.86      0.86      7500\n",
      "   macro avg       0.78      0.72      0.75      7500\n",
      "weighted avg       0.85      0.86      0.86      7500\n",
      "\n"
     ]
    },
    {
     "data": {
      "image/png": "[encoded data removed]",
      "text/plain": [
       "<Figure size 432x288 with 2 Axes>"
      ]
     },
     "metadata": {},
     "output_type": "display_data"
    }
   ],
   "source": [
    "conf_mat = confusion_matrix(Y_test, predict)\n",
    "class_label = [\"Negative\", \"Positive\"]\n",
    "df = pd.DataFrame(conf_mat, index = class_label, columns = class_label)\n",
    "    \n",
    "report=classification_report(Y_test,predict)\n",
    "print(report)\n",
    "    \n",
    "sns.set()\n",
    "sns.heatmap(df, annot = True,fmt=\"d\")\n",
    "plt.title(\"Test_Confusion_Matrix\")\n",
    "plt.xlabel(\"Predicted_Label\")\n",
    "plt.ylabel(\"Actual_Label\")\n",
    "plt.show()"
   ]
  },
  {
   "cell_type": "code",
   "execution_count": 28,
   "metadata": {
    "colab": {
     "base_uri": "https://localhost:8080/"
    },
    "id": "RCN4vjjVH-QH",
    "outputId": "557a2eab-3911-48c8-c8b9-767ac3eef5d7"
   },
   "outputs": [
    {
     "name": "stdout",
     "output_type": "stream",
     "text": [
      "\n",
      "The Top 10 Positive Class Features are :\n",
      "\n",
      "high recommend\n",
      "hot sauc\n",
      "groceri store\n",
      "dog love\n",
      "tast like\n",
      "could not\n",
      "dog food\n",
      "not like\n",
      "year ago\n",
      "would not\n"
     ]
    }
   ],
   "source": [
    "# Top 10 important features of positive class \n",
    "feature_names=BOW.get_feature_names()\n",
    "model=MultinomialNB(alpha=best_alpha)\n",
    "model.fit(X_train_Bow, Y_train)\n",
    "a=getattr(model, 'feature_log_prob_') #Return the value of the named attribute of object. name must be a string. If the string is the name of one of the object’s attributes\n",
    "top =zip(a[1], feature_names)\n",
    "top=list(top)\n",
    "top.sort(key=lambda x: x[0])\n",
    "l=len(top)\n",
    "print('\\nThe Top 10 Positive Class Features are :\\n')\n",
    "for i in range(1,11):\n",
    "    print(top[l-i][1],end=\"\\n\")"
   ]
  },
  {
   "cell_type": "code",
   "execution_count": 29,
   "metadata": {
    "colab": {
     "base_uri": "https://localhost:8080/"
    },
    "id": "-s-p_8RRJZ3Q",
    "outputId": "5ef8a7d0-4e47-4ea4-8b72-db87148c793e"
   },
   "outputs": [
    {
     "name": "stdout",
     "output_type": "stream",
     "text": [
      "\n",
      "The Top 10 Positive Class Features are :\n",
      "\n",
      "would not\n",
      "tast like\n",
      "not even\n",
      "not buy\n",
      "could not\n",
      "dog food\n",
      "not like\n",
      "not know\n",
      "wast money\n",
      "not good\n"
     ]
    }
   ],
   "source": [
    "# Top 10 important features of positive class \n",
    "feature_names=BOW.get_feature_names()\n",
    "model=MultinomialNB(alpha=best_alpha)\n",
    "model.fit(X_train_Bow, Y_train)\n",
    "a=getattr(model, 'feature_log_prob_') #Return the value of the named attribute of object. name must be a string. If the string is the name of one of the object’s attributes\n",
    "top =zip(a[0], feature_names)\n",
    "top=list(top)\n",
    "top.sort(key=lambda x: x[0])\n",
    "l=len(top)\n",
    "print('\\nThe Top 10 Positive Class Features are :\\n')\n",
    "for i in range(1,11):\n",
    "    print(top[l-i][1],end=\"\\n\")"
   ]
  },
  {
   "cell_type": "code",
   "execution_count": 30,
   "metadata": {
    "id": "etTgW9uhJ4tA"
   },
   "outputs": [],
   "source": [
    "#save the trained_model in pickle_file\n",
    "\n",
    "from sklearn.externals import joblib\n",
    "import pickle\n",
    "\n",
    "#joblib.dump(tf_idf,open('Vectorizer.pkl','wb')\n",
    "pickle.dump(model, open('model.pkl','wb'))"
   ]
  },
  {
   "cell_type": "code",
   "execution_count": 31,
   "metadata": {
    "id": "QYUXa_X7Q6r2"
   },
   "outputs": [],
   "source": [
    "vect=pickle.load(open('vectorizer.pkl','rb'))\n",
    "model=pickle.load(open('model.pkl','rb'))"
   ]
  },
  {
   "cell_type": "code",
   "execution_count": 32,
   "metadata": {},
   "outputs": [],
   "source": [
    "from bs4 import BeautifulSoup\n",
    "import re\n",
    "\n",
    "\n",
    "def decontracted(phrase):\n",
    "    # specific\n",
    "    phrase = re.sub(r\"won't\", \"will not\", phrase)\n",
    "    phrase = re.sub(r\"can\\'t\", \"can not\", phrase)\n",
    "\n",
    "    # general\n",
    "    phrase = re.sub(r\"n\\'t\", \" not\", phrase)\n",
    "    phrase = re.sub(r\"\\'re\", \" are\", phrase)\n",
    "    phrase = re.sub(r\"\\'s\", \" is\", phrase)\n",
    "    phrase = re.sub(r\"\\'d\", \" would\", phrase)\n",
    "    phrase = re.sub(r\"\\'ll\", \" will\", phrase)\n",
    "    phrase = re.sub(r\"\\'t\", \" not\", phrase)\n",
    "    phrase = re.sub(r\"\\'ve\", \" have\", phrase)\n",
    "    phrase = re.sub(r\"\\'m\", \" am\", phrase)\n",
    "    return phrase"
   ]
  },
  {
   "cell_type": "code",
   "execution_count": 33,
   "metadata": {},
   "outputs": [],
   "source": [
    "stopwords= set(['br', 'the', 'i', 'me', 'my', 'myself', 'we', 'our', 'ours', 'ourselves', 'you', \"you're\", \"you've\",\\\n",
    "            \"you'll\", \"you'd\", 'your', 'yours', 'yourself', 'yourselves', 'he', 'him', 'his', 'himself', \\\n",
    "            'she', \"she's\", 'her', 'hers', 'herself', 'it', \"it's\", 'its', 'itself', 'they', 'them', 'their',\\\n",
    "            'theirs', 'themselves', 'what', 'which', 'who', 'whom', 'this', 'that', \"that'll\", 'these', 'those', \\\n",
    "            'am', 'is', 'are', 'was', 'were', 'be', 'been', 'being', 'have', 'has', 'had', 'having', 'do', 'does', \\\n",
    "            'did', 'doing', 'a', 'an', 'the', 'and', 'but', 'if', 'or', 'because', 'as', 'until', 'while', 'of', \\\n",
    "            'at', 'by', 'for', 'with', 'about', 'against', 'between', 'into', 'through', 'during', 'before', 'after',\\\n",
    "            'above', 'below', 'to', 'from', 'up', 'down', 'in', 'out', 'on', 'off', 'over', 'under', 'again', 'further',\\\n",
    "            'then', 'once', 'here', 'there', 'when', 'where', 'why', 'how', 'all', 'any', 'both', 'each', 'few', 'more',\\\n",
    "            'most', 'other', 'some', 'such', 'only', 'own', 'same', 'so', 'than', 'too', 'very', \\\n",
    "            's', 't', 'can', 'will', 'just', 'don', \"don't\", 'should', \"should've\", 'now', 'd', 'll', 'm', 'o', 're', \\\n",
    "            've', 'y', 'ain', 'aren', \"aren't\", 'couldn', \"couldn't\", 'didn', \"didn't\", 'doesn', \"doesn't\", 'hadn',\\\n",
    "            \"hadn't\", 'hasn', \"hasn't\", 'haven', \"haven't\", 'isn', \"isn't\", 'ma', 'mightn', \"mightn't\", 'mustn',\\\n",
    "            \"mustn't\", 'needn', \"needn't\", 'shan', \"shan't\", 'shouldn', \"shouldn't\", 'wasn', \"wasn't\", 'weren', \"weren't\", \\\n",
    "            'won', \"won't\", 'wouldn', \"wouldn't\"])"
   ]
  },
  {
   "cell_type": "code",
   "execution_count": 34,
   "metadata": {},
   "outputs": [],
   "source": [
    "def clean_text(sentance):\n",
    "    sentance = re.sub(r\"http\\S+\", \"\", sentance)\n",
    "    sentance = BeautifulSoup(sentance, 'lxml').get_text()\n",
    "    sentance = decontracted(sentance)\n",
    "    sentance = re.sub(\"\\S*\\d\\S*\", \"\", sentance).strip()\n",
    "    sentance = re.sub('[^A-Za-z]+', ' ', sentance)\n",
    "    # https://gist.github.com/sebleier/554280\n",
    "    sentance = ' '.join(e.lower() for e in sentance.split() if e.lower() not in stopwords)\n",
    "    return sentance.strip()"
   ]
  },
  {
   "cell_type": "code",
   "execution_count": 35,
   "metadata": {
    "id": "m-id1l86NsB8"
   },
   "outputs": [
    {
     "name": "stdout",
     "output_type": "stream",
     "text": [
      "1\n",
      "Positive\n"
     ]
    }
   ],
   "source": [
    "def predict(string):\n",
    "   # clf = pickle.load('model.pkl')\n",
    "   # count_vect = pickle.load('vectorizer.pkl')\n",
    "    review_text= decontracted(string)\n",
    "    review_text = clean_text(string)\n",
    "    test_vect = vect.transform(([review_text]))\n",
    "    pred = model.predict(test_vect)\n",
    "    print(pred[0])\n",
    "    if pred[0]:\n",
    "        prediction = \"Positive\"\n",
    "    else:\n",
    "        prediction = \"Negative\"\n",
    "    return prediction\n",
    "\n",
    "\n",
    "print(predict(\"its  good to buy,  buy this,waste of money\"))"
   ]
  },
  {
   "cell_type": "code",
   "execution_count": 36,
   "metadata": {},
   "outputs": [
    {
     "name": "stdout",
     "output_type": "stream",
     "text": [
      "0\n"
     ]
    },
    {
     "data": {
      "text/plain": [
       "'Negative'"
      ]
     },
     "execution_count": 36,
     "metadata": {},
     "output_type": "execute_result"
    }
   ],
   "source": [
    "predict(\"bad product don't buy this\")"
   ]
  },
  {
   "cell_type": "code",
   "execution_count": null,
   "metadata": {},
   "outputs": [],
   "source": []
  }
 ],
 "metadata": {
  "colab": {
   "name": "End_To_End_Solution_of_amazon_Food_Reviews.ipynb",
   "provenance": []
  },
  "kernelspec": {
   "display_name": "Python 3",
   "language": "python",
   "name": "python3"
  },
  "language_info": {
   "codemirror_mode": {
    "name": "ipython",
    "version": 3
   },
   "file_extension": ".py",
   "mimetype": "text/x-python",
   "name": "python",
   "nbconvert_exporter": "python",
   "pygments_lexer": "ipython3",
   "version": "3.7.3"
  }
 },
 "nbformat": 4,
 "nbformat_minor": 1
}
