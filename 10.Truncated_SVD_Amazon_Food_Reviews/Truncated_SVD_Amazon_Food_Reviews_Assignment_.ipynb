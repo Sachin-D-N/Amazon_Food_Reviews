{
  "nbformat": 4,
  "nbformat_minor": 0,
  "metadata": {
    "colab": {
      "name": "Truncated_SVD_Amazon_Food_Reviews_Assignment_.ipynb",
      "provenance": [],
      "collapsed_sections": [
        "og0N0KIZdkF3",
        "9ZkZ70TpgXNu",
        "j8OmI4cZhy9S"
      ],
      "include_colab_link": true
    },
    "kernelspec": {
      "name": "python3",
      "display_name": "Python 3"
    }
  },
  "cells": [
    {
      "cell_type": "markdown",
      "metadata": {
        "id": "view-in-github",
        "colab_type": "text"
      },
      "source": [
        "<a href=\"https://colab.research.google.com/github/Sachin-D-N/Amazon_Food_Reviews/blob/main/10.Truncated_SVD_Amazon_Food_Reviews/Truncated_SVD_Amazon_Food_Reviews_Assignment_.ipynb\" target=\"_parent\"><img src=\"https://colab.research.google.com/assets/colab-badge.svg\" alt=\"Open In Colab\"/></a>"
      ]
    },
    {
      "cell_type": "markdown",
      "metadata": {
        "id": "rGizLafpVnOy"
      },
      "source": [
        "# Amazon Fine Food Reviews Analysis\n",
        "\n",
        "\n",
        "Data Source: https://www.kaggle.com/snap/amazon-fine-food-reviews <br>\n",
        "\n",
        "EDA: https://nycdatascience.com/blog/student-works/amazon-fine-foods-visualization/\n",
        "\n",
        "\n",
        "The Amazon Fine Food Reviews dataset consists of reviews of fine foods from Amazon.<br>\n",
        "\n",
        "Number of reviews: 568,454<br>\n",
        "Number of users: 256,059<br>\n",
        "Number of products: 74,258<br>\n",
        "Timespan: Oct 1999 - Oct 2012<br>\n",
        "Number of Attributes/Columns in data: 10 \n",
        "\n",
        "Attribute Information:\n",
        "\n",
        "1. Id\n",
        "2. ProductId - unique identifier for the product\n",
        "3. UserId - unqiue identifier for the user\n",
        "4. ProfileName\n",
        "5. HelpfulnessNumerator - number of users who found the review helpful\n",
        "6. HelpfulnessDenominator - number of users who indicated whether they found the review helpful or not\n",
        "7. Score - rating between 1 and 5\n",
        "8. Time - timestamp for the review\n",
        "9. Summary - brief summary of the review\n",
        "10. Text - text of the review\n",
        "\n",
        "\n",
        "#### Objective:\n",
        "Given a review, determine whether the review is positive (rating of 4 or 5) or negative (rating of 1 or 2).\n",
        "\n",
        "<br>\n",
        "[Q] How to determine if a review is positive or negative?<br>\n",
        "<br> \n",
        "[Ans] We could use Score/Rating. A rating of 4 or 5 can be cosnidered as a positive review. A rating of 1 or 2 can be considered as negative one. A review of rating 3 is considered nuetral and such reviews are ignored from our analysis. This is an approximate and proxy way of determining the polarity (positivity/negativity) of a review.\n",
        "\n",
        "\n"
      ]
    },
    {
      "cell_type": "markdown",
      "metadata": {
        "id": "6cYT9BmRV5hy"
      },
      "source": [
        "# Assignment : Apply Truncated SVD"
      ]
    },
    {
      "cell_type": "markdown",
      "metadata": {
        "id": "p31M02OvXSXP"
      },
      "source": [
        "<ol>\n",
        "    <li><strong>Apply Truncated-SVD on only this feature set:</strong>\n",
        "        <ul>\n",
        "            <li><font color='red'>SET 2:</font>Review text, preprocessed one converted into vectors using (TFIDF)</li>\n",
        "    <br>\n",
        "    <li><strong>Procedure:</strong>\n",
        "        <ul>\n",
        "    <li>Take top 2000 or 3000 features from tf-idf vectorizers using idf_ score.</li>\n",
        "    <li>You need to calculate the co-occurrence matrix with the selected features (Note: X.X^T\n",
        "doesn’t give the co-occurrence matrix, it returns the covariance matrix, check these\n",
        "        bolgs <a href='https://medium.com/data-science-group-iitr/word-embedding-2d05d270b285'>blog-1,</a> <a href='https://www.analyticsvidhya.com/blog/2017/06/word-embeddings-count-word2veec/'>blog-2 </a>for more information)</li>\n",
        "            <li>You should choose the n_components in truncated svd, with maximum explained\n",
        "variance. Please search on how to choose that and implement them. (hint: plot of\n",
        "cumulative explained variance ratio)</li>\n",
        "            <li>After you are done with the truncated svd, you can apply K-Means clustering and choose\n",
        "the best number of clusters based on elbow method.</li>\n",
        "            <li> Print out wordclouds for each cluster, similar to that in previous assignment. </li>\n",
        "            <li>You need to write a function that takes a word and returns the most similar words using\n",
        "cosine similarity between the vectors(vector: a row in the matrix after truncatedSVD)</li>\n",
        "        </ul>\n",
        "    </li>\n",
        "    <br>\n",
        "    \n",
        "</ol>"
      ]
    },
    {
      "cell_type": "markdown",
      "metadata": {
        "id": "cUMaNzdWXJEl"
      },
      "source": [
        "###  we already strored the preprocessed_data in a file to know the preprocessing steps visit <a href='https://github.com/Sachin-D-N/Amazon_Food_Reviews/blob/main/01.Amazon_Fine_Food_Review_Analysis_Featurization/Amazon%20Fine%20Food%20Reviews%20Analysis.ipynb'>here </a>"
      ]
    },
    {
      "cell_type": "code",
      "metadata": {
        "id": "zHpqv5geVQXf"
      },
      "source": [
        "#loading Libraries\n",
        "import numpy as np\n",
        "import pandas as pd"
      ],
      "execution_count": null,
      "outputs": []
    },
    {
      "cell_type": "code",
      "metadata": {
        "id": "W3d0NhvkZJHk",
        "colab": {
          "base_uri": "https://localhost:8080/"
        },
        "outputId": "40d6dad2-4bd9-41a0-985e-256d50bbdaad"
      },
      "source": [
        "from google.colab import drive\n",
        "drive.mount('/content/drive')"
      ],
      "execution_count": null,
      "outputs": [
        {
          "output_type": "stream",
          "text": [
            "Mounted at /content/drive\n"
          ],
          "name": "stdout"
        }
      ]
    },
    {
      "cell_type": "code",
      "metadata": {
        "id": "UR13yHB-XQKF"
      },
      "source": [
        "#load the preprocessed data \n",
        "data=pd.read_csv('/content/drive/My Drive/preprocessed_data.csv') "
      ],
      "execution_count": null,
      "outputs": []
    },
    {
      "cell_type": "code",
      "metadata": {
        "id": "MCWnpYcAXakg",
        "colab": {
          "base_uri": "https://localhost:8080/",
          "height": 337
        },
        "outputId": "0df002fe-3cb4-48c2-c07d-cc79d54b02d5"
      },
      "source": [
        "data.head()"
      ],
      "execution_count": null,
      "outputs": [
        {
          "output_type": "execute_result",
          "data": {
            "text/html": [
              "<div>\n",
              "<style scoped>\n",
              "    .dataframe tbody tr th:only-of-type {\n",
              "        vertical-align: middle;\n",
              "    }\n",
              "\n",
              "    .dataframe tbody tr th {\n",
              "        vertical-align: top;\n",
              "    }\n",
              "\n",
              "    .dataframe thead th {\n",
              "        text-align: right;\n",
              "    }\n",
              "</style>\n",
              "<table border=\"1\" class=\"dataframe\">\n",
              "  <thead>\n",
              "    <tr style=\"text-align: right;\">\n",
              "      <th></th>\n",
              "      <th>Id</th>\n",
              "      <th>ProductId</th>\n",
              "      <th>UserId</th>\n",
              "      <th>ProfileName</th>\n",
              "      <th>HelpfulnessNumerator</th>\n",
              "      <th>HelpfulnessDenominator</th>\n",
              "      <th>Score</th>\n",
              "      <th>Time</th>\n",
              "      <th>Summary</th>\n",
              "      <th>Text</th>\n",
              "      <th>preprocessed_reviews</th>\n",
              "      <th>preprocessed_summary</th>\n",
              "    </tr>\n",
              "  </thead>\n",
              "  <tbody>\n",
              "    <tr>\n",
              "      <th>0</th>\n",
              "      <td>150524</td>\n",
              "      <td>0006641040</td>\n",
              "      <td>ACITT7DI6IDDL</td>\n",
              "      <td>shari zychinski</td>\n",
              "      <td>0</td>\n",
              "      <td>0</td>\n",
              "      <td>1</td>\n",
              "      <td>939340800</td>\n",
              "      <td>EVERY book is educational</td>\n",
              "      <td>this witty little book makes my son laugh at l...</td>\n",
              "      <td>witti littl book make son laugh loud recit car...</td>\n",
              "      <td>everi book educ</td>\n",
              "    </tr>\n",
              "    <tr>\n",
              "      <th>1</th>\n",
              "      <td>150506</td>\n",
              "      <td>0006641040</td>\n",
              "      <td>A2IW4PEEKO2R0U</td>\n",
              "      <td>Tracy</td>\n",
              "      <td>1</td>\n",
              "      <td>1</td>\n",
              "      <td>1</td>\n",
              "      <td>1194739200</td>\n",
              "      <td>Love the book, miss the hard cover version</td>\n",
              "      <td>I grew up reading these Sendak books, and watc...</td>\n",
              "      <td>grew read sendak book watch realli rosi movi i...</td>\n",
              "      <td>love book miss hard cover version</td>\n",
              "    </tr>\n",
              "    <tr>\n",
              "      <th>2</th>\n",
              "      <td>150507</td>\n",
              "      <td>0006641040</td>\n",
              "      <td>A1S4A3IQ2MU7V4</td>\n",
              "      <td>sally sue \"sally sue\"</td>\n",
              "      <td>1</td>\n",
              "      <td>1</td>\n",
              "      <td>1</td>\n",
              "      <td>1191456000</td>\n",
              "      <td>chicken soup with rice months</td>\n",
              "      <td>This is a fun way for children to learn their ...</td>\n",
              "      <td>fun way children learn month year learn poem t...</td>\n",
              "      <td>chicken soup rice month</td>\n",
              "    </tr>\n",
              "    <tr>\n",
              "      <th>3</th>\n",
              "      <td>150508</td>\n",
              "      <td>0006641040</td>\n",
              "      <td>AZGXZ2UUK6X</td>\n",
              "      <td>Catherine Hallberg \"(Kate)\"</td>\n",
              "      <td>1</td>\n",
              "      <td>1</td>\n",
              "      <td>1</td>\n",
              "      <td>1076025600</td>\n",
              "      <td>a good swingy rhythm for reading aloud</td>\n",
              "      <td>This is a great little book to read aloud- it ...</td>\n",
              "      <td>great littl book read aloud nice rhythm well g...</td>\n",
              "      <td>good swingi rhythm read aloud</td>\n",
              "    </tr>\n",
              "    <tr>\n",
              "      <th>4</th>\n",
              "      <td>150509</td>\n",
              "      <td>0006641040</td>\n",
              "      <td>A3CMRKGE0P909G</td>\n",
              "      <td>Teresa</td>\n",
              "      <td>3</td>\n",
              "      <td>4</td>\n",
              "      <td>1</td>\n",
              "      <td>1018396800</td>\n",
              "      <td>A great way to learn the months</td>\n",
              "      <td>This is a book of poetry about the months of t...</td>\n",
              "      <td>book poetri month year goe month cute littl po...</td>\n",
              "      <td>great way learn month</td>\n",
              "    </tr>\n",
              "  </tbody>\n",
              "</table>\n",
              "</div>"
            ],
            "text/plain": [
              "       Id  ...               preprocessed_summary\n",
              "0  150524  ...                    everi book educ\n",
              "1  150506  ...  love book miss hard cover version\n",
              "2  150507  ...            chicken soup rice month\n",
              "3  150508  ...      good swingi rhythm read aloud\n",
              "4  150509  ...              great way learn month\n",
              "\n",
              "[5 rows x 12 columns]"
            ]
          },
          "metadata": {
            "tags": []
          },
          "execution_count": 4
        }
      ]
    },
    {
      "cell_type": "code",
      "metadata": {
        "id": "EzQyv-48Xl3i"
      },
      "source": [
        "#use preprocessed_reviews \n",
        "X=data['preprocessed_reviews'].values"
      ],
      "execution_count": null,
      "outputs": []
    },
    {
      "cell_type": "code",
      "metadata": {
        "id": "Fvdbm0jLXz0D",
        "colab": {
          "base_uri": "https://localhost:8080/"
        },
        "outputId": "e9df0d6e-fd31-4c4d-be21-8c41e13167f0"
      },
      "source": [
        "print(X.shape)"
      ],
      "execution_count": null,
      "outputs": [
        {
          "output_type": "stream",
          "text": [
            "(364171,)\n"
          ],
          "name": "stdout"
        }
      ]
    },
    {
      "cell_type": "code",
      "metadata": {
        "colab": {
          "base_uri": "https://localhost:8080/",
          "height": 35
        },
        "id": "EbsyfhkLkzhy",
        "outputId": "ab2aff0c-b13f-4bea-b749-e1699e18ca5b"
      },
      "source": [
        "X[0]"
      ],
      "execution_count": null,
      "outputs": [
        {
          "output_type": "execute_result",
          "data": {
            "application/vnd.google.colaboratory.intrinsic+json": {
              "type": "string"
            },
            "text/plain": [
              "'witti littl book make son laugh loud recit car drive along alway sing refrain learn whale india droop rose love new word book introduc silli classic book will bet son still abl recit memori colleg'"
            ]
          },
          "metadata": {
            "tags": []
          },
          "execution_count": 9
        }
      ]
    },
    {
      "cell_type": "markdown",
      "metadata": {
        "id": "foa9JkojZjNc"
      },
      "source": [
        "# Featurization using TFIDF vectorizer"
      ]
    },
    {
      "cell_type": "code",
      "metadata": {
        "id": "QENfxCqolYcc"
      },
      "source": [
        "#importing libraries\n",
        "\n",
        "import matplotlib.pyplot as plt\n",
        "import seaborn as sns\n",
        "from sklearn.feature_extraction.text import TfidfTransformer\n",
        "from sklearn.feature_extraction.text import TfidfVectorizer\n",
        "from sklearn.feature_extraction.text import CountVectorizer\n",
        "from tqdm import tqdm"
      ],
      "execution_count": null,
      "outputs": []
    },
    {
      "cell_type": "code",
      "metadata": {
        "id": "-oqj0SD5lY9L"
      },
      "source": [
        "tfidf_vect = TfidfVectorizer()\n",
        "Tfidf_data = tfidf_vect.fit_transform(X)"
      ],
      "execution_count": null,
      "outputs": []
    },
    {
      "cell_type": "code",
      "metadata": {
        "colab": {
          "base_uri": "https://localhost:8080/"
        },
        "id": "MQnHgFOYlY5_",
        "outputId": "b097c61f-78d9-400e-fdda-50c32fc103b6"
      },
      "source": [
        "Tfidf_data.shape"
      ],
      "execution_count": null,
      "outputs": [
        {
          "output_type": "execute_result",
          "data": {
            "text/plain": [
              "(364171, 87688)"
            ]
          },
          "metadata": {
            "tags": []
          },
          "execution_count": 12
        }
      ]
    },
    {
      "cell_type": "markdown",
      "metadata": {
        "id": "AFZRHYKOmJqC"
      },
      "source": [
        "### Taking top features from TFIDF"
      ]
    },
    {
      "cell_type": "code",
      "metadata": {
        "id": "PUmQOZwqlY3R"
      },
      "source": [
        "idf_score = tfidf_vect.idf_  # obtaining the idf score from TFIDFVECTORIZER\n",
        "feature_names  = tfidf_vect.get_feature_names()"
      ],
      "execution_count": null,
      "outputs": []
    },
    {
      "cell_type": "code",
      "metadata": {
        "id": "p4UB8cNZnhv9"
      },
      "source": [
        "idfscore_feat=[]\n",
        "for i in range(len(idf_score)):\n",
        "    idfscore_feat.append([idf_score[i],feature_names[i]])"
      ],
      "execution_count": null,
      "outputs": []
    },
    {
      "cell_type": "code",
      "metadata": {
        "colab": {
          "base_uri": "https://localhost:8080/"
        },
        "id": "yoog3WtzlY1A",
        "outputId": "86b965f6-aed2-4541-e0d6-524f2ff270af"
      },
      "source": [
        "idfscore_feat.sort(reverse=True)\n",
        "idfscore_feat=idfscore_feat[:3000]\n",
        "#some top features in idfscore_feat list \n",
        "for i in idfscore_feat[:30]:\n",
        "    print(i)"
      ],
      "execution_count": null,
      "outputs": [
        {
          "output_type": "stream",
          "text": [
            "[13.11223438192551, 'zzzzzzzzzzzzzzzzzzzzzzzzzzzzzzzzzzzzzzzzz']\n",
            "[13.11223438192551, 'zzzzzzzzzzz']\n",
            "[13.11223438192551, 'zzzzzzzzzz']\n",
            "[13.11223438192551, 'zzzzzzzz']\n",
            "[13.11223438192551, 'zzzzzz']\n",
            "[13.11223438192551, 'zzzz']\n",
            "[13.11223438192551, 'zziga']\n",
            "[13.11223438192551, 'zypan']\n",
            "[13.11223438192551, 'zymox']\n",
            "[13.11223438192551, 'zylotol']\n",
            "[13.11223438192551, 'zylitor']\n",
            "[13.11223438192551, 'zyliss']\n",
            "[13.11223438192551, 'zylici']\n",
            "[13.11223438192551, 'zyje']\n",
            "[13.11223438192551, 'zydeco']\n",
            "[13.11223438192551, 'zxcvbnm']\n",
            "[13.11223438192551, 'zwiebeck']\n",
            "[13.11223438192551, 'zwar']\n",
            "[13.11223438192551, 'zvijezda']\n",
            "[13.11223438192551, 'zushi']\n",
            "[13.11223438192551, 'zupa']\n",
            "[13.11223438192551, 'zune']\n",
            "[13.11223438192551, 'zummi']\n",
            "[13.11223438192551, 'zumi']\n",
            "[13.11223438192551, 'zulbia']\n",
            "[13.11223438192551, 'zuk']\n",
            "[13.11223438192551, 'zujirushi']\n",
            "[13.11223438192551, 'zufal']\n",
            "[13.11223438192551, 'zuco']\n",
            "[13.11223438192551, 'zucker']\n"
          ],
          "name": "stdout"
        }
      ]
    },
    {
      "cell_type": "markdown",
      "metadata": {
        "id": "o-9V9kUqsnkA"
      },
      "source": [
        " ### Calulation of Co-occurrence matrix"
      ]
    },
    {
      "cell_type": "code",
      "metadata": {
        "id": "1L31vgv3lYx4"
      },
      "source": [
        "#initializing cooccurence matrix to 0 \n",
        "co_occur_matrix=np.zeros((3000,3000))\n",
        "#taking context_window=2\n",
        "context_window=2"
      ],
      "execution_count": null,
      "outputs": []
    },
    {
      "cell_type": "code",
      "metadata": {
        "id": "vyZsq1GtlYrz"
      },
      "source": [
        "top_3000_features=[]\n",
        "for i in range(3000):\n",
        "    top_3000_features.append(idfscore_feat[i][1])"
      ],
      "execution_count": null,
      "outputs": []
    },
    {
      "cell_type": "code",
      "metadata": {
        "colab": {
          "base_uri": "https://localhost:8080/"
        },
        "id": "6Yb2usU4lYiC",
        "outputId": "e491a5f3-58b0-49d6-a703-0de984995ab7"
      },
      "source": [
        "\n",
        "len(top_3000_features)"
      ],
      "execution_count": null,
      "outputs": [
        {
          "output_type": "execute_result",
          "data": {
            "text/plain": [
              "3000"
            ]
          },
          "metadata": {
            "tags": []
          },
          "execution_count": 29
        }
      ]
    },
    {
      "cell_type": "code",
      "metadata": {
        "id": "eAEfJVSPtbRJ"
      },
      "source": [
        "for sentance in X:\n",
        "    words_in_sent=sentance.split()\n",
        "    #print(sentance)\n",
        "    for idx,word in enumerate(words_in_sent):\n",
        "        if word in top_3000_features:\n",
        "            for i in range(max(0,idx-context_window),min(idx+context_window,len(words_in_sent))):\n",
        "                \n",
        "                if words_in_sent[i] in top_3000_features and words_in_sent[i]!=word:\n",
        "                    co_occur_matrix[top_3000_features.index(words_in_sent[i]),top_3000_features.index(word)]+=1"
      ],
      "execution_count": null,
      "outputs": []
    },
    {
      "cell_type": "code",
      "metadata": {
        "colab": {
          "base_uri": "https://localhost:8080/"
        },
        "id": "-T-wqjvOtce6",
        "outputId": "5e3e32d7-ad14-4a16-cdc8-8458507678d2"
      },
      "source": [
        "#cooccurence matrix\n",
        "print(co_occur_matrix)"
      ],
      "execution_count": null,
      "outputs": [
        {
          "output_type": "stream",
          "text": [
            "[[0. 0. 0. ... 0. 0. 0.]\n",
            " [0. 0. 0. ... 0. 0. 0.]\n",
            " [0. 0. 0. ... 0. 0. 0.]\n",
            " ...\n",
            " [0. 0. 0. ... 0. 0. 0.]\n",
            " [0. 0. 0. ... 0. 0. 0.]\n",
            " [0. 0. 0. ... 0. 0. 0.]]\n"
          ],
          "name": "stdout"
        }
      ]
    },
    {
      "cell_type": "markdown",
      "metadata": {
        "id": "zaCTPTyQuPpg"
      },
      "source": [
        "## Finding optimal value for number of components (n) to be retained"
      ]
    },
    {
      "cell_type": "code",
      "metadata": {
        "colab": {
          "base_uri": "https://localhost:8080/"
        },
        "id": "F85MRWlgtcbv",
        "outputId": "116a06cc-ab26-4e3e-fa26-7f8ff05b6752"
      },
      "source": [
        "from sklearn.decomposition import TruncatedSVD\n",
        "\n",
        "n_components=[10,20,40,50,60,100,200,300,400,500,1000,1200,1500,2000]\n",
        "explained_variance=[]\n",
        "for n in n_components:\n",
        "    tsvd=TruncatedSVD(n_components=n)\n",
        "    tsvd.fit(co_occur_matrix)\n",
        "    expvar=tsvd.explained_variance_ratio_.sum()\n",
        "    explained_variance.append(expvar)\n",
        "    \n",
        "    print('n_components=',n,'Explained variance=',expvar)"
      ],
      "execution_count": null,
      "outputs": [
        {
          "output_type": "stream",
          "text": [
            "n_components= 10 Explained variance= 0.3199564698186135\n",
            "n_components= 20 Explained variance= 0.5199830425674641\n",
            "n_components= 40 Explained variance= 0.9199981403420336\n",
            "n_components= 50 Explained variance= 1.0000000000000224\n",
            "n_components= 60 Explained variance= 1.0000000000000324\n",
            "n_components= 100 Explained variance= 1.0000000000000342\n",
            "n_components= 200 Explained variance= 1.0000000000000346\n",
            "n_components= 300 Explained variance= 1.0000000000000284\n",
            "n_components= 400 Explained variance= 1.0000000000000204\n",
            "n_components= 500 Explained variance= 1.0000000000000266\n",
            "n_components= 1000 Explained variance= 1.0000000000000282\n",
            "n_components= 1200 Explained variance= 1.000000000000036\n",
            "n_components= 1500 Explained variance= 1.0000000000000306\n",
            "n_components= 2000 Explained variance= 1.000000000000027\n"
          ],
          "name": "stdout"
        }
      ]
    },
    {
      "cell_type": "code",
      "metadata": {
        "colab": {
          "base_uri": "https://localhost:8080/",
          "height": 296
        },
        "id": "m70Ke90MtcYO",
        "outputId": "c252d8a5-8728-4d39-b448-59e2448b69dd"
      },
      "source": [
        "#plotting curve between n_components and explained variance\n",
        "plt.plot(n_components, explained_variance)\n",
        "plt.xlabel('n_components')\n",
        "plt.ylabel(\"Explained variance\")\n",
        "plt.title(\"n_components v/s Explained variance\")\n",
        "plt.show()"
      ],
      "execution_count": null,
      "outputs": [
        {
          "output_type": "display_data",
          "data": {
            "image/png": "[encoded data removed]",
            "text/plain": [
              "<Figure size 432x288 with 1 Axes>"
            ]
          },
          "metadata": {
            "tags": [],
            "needs_background": "light"
          }
        }
      ]
    },
    {
      "cell_type": "markdown",
      "metadata": {
        "id": "3w6tpmBdxNyC"
      },
      "source": [
        "As we can see that for n_components=49 it covers explained variance of 99.51% which is great"
      ]
    },
    {
      "cell_type": "markdown",
      "metadata": {
        "id": "vMCMPoZjulud"
      },
      "source": [
        "### Applying k-means clustering"
      ]
    },
    {
      "cell_type": "code",
      "metadata": {
        "colab": {
          "base_uri": "https://localhost:8080/",
          "height": 295
        },
        "id": "ilRjbeTrtcVV",
        "outputId": "47500859-8766-4cb7-c024-2c3a99bbe815"
      },
      "source": [
        "from sklearn.cluster import KMeans\n",
        "#applying K-means clustering and finding best k using elbow method\n",
        "#first put the optimal n_components into truncated svd to find our train data\n",
        "tsvd=TruncatedSVD(n_components=49)\n",
        "X_train=tsvd.fit_transform(co_occur_matrix)\n",
        "\n",
        "K=[1,2,3,4,5,6,7]\n",
        "inertia=[]\n",
        "\n",
        "for k in K:\n",
        "    model=KMeans(n_clusters=k)\n",
        "    model.fit(X_train)\n",
        "    inertia.append(model.inertia_)\n",
        "plt.plot(K,inertia)\n",
        "plt.xlabel('k (clusters)')\n",
        "plt.ylabel('inertia')\n",
        "plt.title('n_clusters vs inertia')\n",
        "plt.show()"
      ],
      "execution_count": null,
      "outputs": [
        {
          "output_type": "display_data",
          "data": {
            "image/png": "[encoded data removed]",
            "text/plain": [
              "<Figure size 432x288 with 1 Axes>"
            ]
          },
          "metadata": {
            "tags": [],
            "needs_background": "light"
          }
        }
      ]
    },
    {
      "cell_type": "code",
      "metadata": {
        "id": "Kxmx0dN4tcSn"
      },
      "source": [
        "#training our model at k=3\n",
        "model=KMeans(n_clusters=3).fit(X_train)"
      ],
      "execution_count": null,
      "outputs": []
    },
    {
      "cell_type": "markdown",
      "metadata": {
        "id": "wNle_3IsyESu"
      },
      "source": [
        "## Wordclouds of clusters obtained in the above section"
      ]
    },
    {
      "cell_type": "code",
      "metadata": {
        "colab": {
          "base_uri": "https://localhost:8080/"
        },
        "id": "6TvexFrduZFO",
        "outputId": "0b375828-3be3-4321-aca4-a66cc293da04"
      },
      "source": [
        "cluster1,cluster2,cluster3=[],[],[]\n",
        "for i in range(model.labels_.shape[0]):\n",
        "    if model.labels_[i] == 0:\n",
        "        cluster1.append(top_3000_features[i])\n",
        "    elif model.labels_[i] == 1:\n",
        "        cluster2.append(top_3000_features[i])\n",
        "    else:\n",
        "        cluster3.append(top_3000_features[i])\n",
        "\n",
        "\n",
        "# Number of reviews in different clusters\n",
        "print(\"No. of reviews in Cluster-1 : \",len(cluster1))\n",
        "print(\"\\nNo. of reviews in Cluster-2 : \",len(cluster2))\n",
        "print(\"\\nNo. of reviews in Cluster-3 : \",len(cluster3))"
      ],
      "execution_count": null,
      "outputs": [
        {
          "output_type": "stream",
          "text": [
            "No. of reviews in Cluster-1 :  2998\n",
            "\n",
            "No. of reviews in Cluster-2 :  1\n",
            "\n",
            "No. of reviews in Cluster-3 :  1\n"
          ],
          "name": "stdout"
        }
      ]
    },
    {
      "cell_type": "code",
      "metadata": {
        "colab": {
          "base_uri": "https://localhost:8080/",
          "height": 197
        },
        "id": "ZEU07yV5uZBf",
        "outputId": "e2edaef9-6ee8-4a79-8cbd-655e83268169"
      },
      "source": [
        "#for cluster1\n",
        "data=''\n",
        "for i in cluster1:\n",
        "    data=data+i+' '\n",
        "from wordcloud import WordCloud\n",
        "wordcloud = WordCloud(background_color=\"black\").generate(data)\n",
        "# Display the generated image: \n",
        "plt.imshow(wordcloud, interpolation='bilinear')\n",
        "plt.axis(\"off\")\n",
        "plt.show()"
      ],
      "execution_count": null,
      "outputs": [
        {
          "output_type": "display_data",
          "data": {
            "image/png": "[encoded data removed]",
            "text/plain": [
              "<Figure size 432x288 with 1 Axes>"
            ]
          },
          "metadata": {
            "tags": [],
            "needs_background": "light"
          }
        }
      ]
    },
    {
      "cell_type": "code",
      "metadata": {
        "colab": {
          "base_uri": "https://localhost:8080/",
          "height": 197
        },
        "id": "jskjru7juY-b",
        "outputId": "66c4f482-4524-412d-c582-ef9de63f88e6"
      },
      "source": [
        "#for cluster2\n",
        "data=''\n",
        "for i in cluster2:\n",
        "    data=data+i+' '\n",
        "from wordcloud import WordCloud\n",
        "wordcloud = WordCloud(background_color=\"black\").generate(data)\n",
        "# Display the generated image: \n",
        "plt.imshow(wordcloud, interpolation='bilinear')\n",
        "plt.axis(\"off\")\n",
        "plt.show()"
      ],
      "execution_count": null,
      "outputs": [
        {
          "output_type": "display_data",
          "data": {
            "image/png": "[encoded data removed]",
            "text/plain": [
              "<Figure size 432x288 with 1 Axes>"
            ]
          },
          "metadata": {
            "tags": [],
            "needs_background": "light"
          }
        }
      ]
    },
    {
      "cell_type": "code",
      "metadata": {
        "colab": {
          "base_uri": "https://localhost:8080/",
          "height": 197
        },
        "id": "nf-pF1Iju3zs",
        "outputId": "46ad6a1f-1fb5-4b31-d3f3-048e7a447fc1"
      },
      "source": [
        "#for cluster3\n",
        "data=''\n",
        "for i in cluster3:\n",
        "    data=data+i+' '\n",
        "from wordcloud import WordCloud\n",
        "wordcloud = WordCloud(background_color=\"black\").generate(data)\n",
        "# Display the generated image: \n",
        "plt.imshow(wordcloud, interpolation='bilinear')\n",
        "plt.axis(\"off\")\n",
        "plt.show()"
      ],
      "execution_count": null,
      "outputs": [
        {
          "output_type": "display_data",
          "data": {
            "image/png": "[encoded data removed]",
            "text/plain": [
              "<Figure size 432x288 with 1 Axes>"
            ]
          },
          "metadata": {
            "tags": [],
            "needs_background": "light"
          }
        }
      ]
    },
    {
      "cell_type": "markdown",
      "metadata": {
        "id": "6HPnHXzmz5at"
      },
      "source": [
        "## Function that returns most similar words for a given word"
      ]
    },
    {
      "cell_type": "code",
      "metadata": {
        "id": "CKC-0BQtu3vH"
      },
      "source": [
        "from sklearn.metrics.pairwise import cosine_similarity\n",
        "def similar_word_10(word):\n",
        "    similarity = cosine_similarity(co_occur_matrix)\n",
        "    word_vect = similarity[top_3000_features.index(word)]\n",
        "    print(\"Similar Word to\",word)\n",
        "    index = word_vect.argsort()[::-1][1:11]\n",
        "    for j in range(len(index)):\n",
        "        print((j+1),\"Word\",top_3000_features[index[j]] ,\"is similar to\",word,\"\\n\")"
      ],
      "execution_count": null,
      "outputs": []
    },
    {
      "cell_type": "code",
      "metadata": {
        "colab": {
          "base_uri": "https://localhost:8080/"
        },
        "id": "bwJhMeTRu3ry",
        "outputId": "0254f3fd-1e4c-4233-fac4-88f0641458c3"
      },
      "source": [
        "similar_word_10(top_3000_features[1858])"
      ],
      "execution_count": null,
      "outputs": [
        {
          "output_type": "stream",
          "text": [
            "Similar Word to whatevertheheck\n",
            "1 Word wouldtak is similar to whatevertheheck \n",
            "\n",
            "2 Word wouldov is similar to whatevertheheck \n",
            "\n",
            "3 Word wouldownsid is similar to whatevertheheck \n",
            "\n",
            "4 Word wouldpres is similar to whatevertheheck \n",
            "\n",
            "5 Word wouldrecommend is similar to whatevertheheck \n",
            "\n",
            "6 Word wouldreg is similar to whatevertheheck \n",
            "\n",
            "7 Word wouldriven is similar to whatevertheheck \n",
            "\n",
            "8 Word wouldrugstor is similar to whatevertheheck \n",
            "\n",
            "9 Word wouldst is similar to whatevertheheck \n",
            "\n",
            "10 Word wouldt is similar to whatevertheheck \n",
            "\n"
          ],
          "name": "stdout"
        }
      ]
    },
    {
      "cell_type": "markdown",
      "metadata": {
        "id": "LX8ErTs015WO"
      },
      "source": [
        "##Observations and Conclusions"
      ]
    },
    {
      "cell_type": "markdown",
      "metadata": {
        "id": "EuMNOslU1-XX"
      },
      "source": [
        "1) First we figured our top 3000 words using tfidf score built a co-occurence matrix from those words\n",
        "\n",
        "2) After applying truncated svd on it we found our optimal n_components to be 49 since it covers 99.50% of explained variance obtained.\n",
        "\n",
        "3) Then we applied kmeans on using optimal svd values and found our best n_cluster value equal to 3 using elbow method.\n",
        "\n",
        "4) After that we plotted wordcloud for each clusters and found in some clusters there are few words and at the end we generated a function which return most similar words using cosine similarity of co-occurence matrix."
      ]
    }
  ]
}
