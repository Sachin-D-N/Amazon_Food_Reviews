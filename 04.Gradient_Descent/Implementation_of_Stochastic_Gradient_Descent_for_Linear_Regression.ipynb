{
  "nbformat": 4,
  "nbformat_minor": 0,
  "metadata": {
    "colab": {
      "name": "Implementation of Stochastic Gradient Descent for Linear Regression.ipynb",
      "provenance": [],
      "authorship_tag": "ABX9TyNoOUak7RMkkDNdYl+CAqew",
      "include_colab_link": true
    },
    "kernelspec": {
      "name": "python3",
      "display_name": "Python 3"
    }
  },
  "cells": [
    {
      "cell_type": "markdown",
      "metadata": {
        "id": "view-in-github",
        "colab_type": "text"
      },
      "source": [
        "<a href=\"https://colab.research.google.com/github/Sachin-D-N/Amazon_Food_Reviews/blob/main/04.Gradient_Descent/Implementation_of_Stochastic_Gradient_Descent_for_Linear_Regression.ipynb\" target=\"_parent\"><img src=\"https://colab.research.google.com/assets/colab-badge.svg\" alt=\"Open In Colab\"/></a>"
      ]
    },
    {
      "cell_type": "markdown",
      "metadata": {
        "id": "mJE2XYo0oraT"
      },
      "source": [
        "\n",
        "\n",
        "# SGD Regressor from scratch :\n",
        "Objective :\n",
        "\n",
        "1. Take the boston data set from sklearn.\n",
        "2. Write the SGDRegressor from scratch.\n",
        "3. You don’t need to split the data into train and test, you consider whole data for this implementation.\n",
        "4. Get weights( coefs_ and intercept ) from your model and the MSE value.\n",
        "5. Don’t forget to standardize the data, and choose appropriate learning rate.\n",
        "6. Train your model using SGDRegressor with the same parameters, and find the MSE on the same data.\n",
        "7. Compare these two results.\n",
        "8. You can choose any other metric other than MSE to compare them. They both should be same.\n"
      ]
    },
    {
      "cell_type": "code",
      "metadata": {
        "id": "tSd0m1EDokq6",
        "colab": {
          "base_uri": "https://localhost:8080/",
          "height": 50
        },
        "outputId": "7de1f483-4360-42f6-f42b-99b0fb9f5da6"
      },
      "source": [
        "from sklearn.datasets import load_boston\n",
        "from sklearn.preprocessing import StandardScaler\n",
        "from sklearn.linear_model import LinearRegression\n",
        "from sklearn.metrics import mean_squared_error\n",
        "import pandas as pd\n",
        "import numpy as np\n",
        "import seaborn as sns\n",
        "import matplotlib.pyplot as plt"
      ],
      "execution_count": null,
      "outputs": [
        {
          "output_type": "stream",
          "text": [
            "/usr/local/lib/python3.6/dist-packages/statsmodels/tools/_testing.py:19: FutureWarning: pandas.util.testing is deprecated. Use the functions in the public API at pandas.testing instead.\n",
            "  import pandas.util.testing as tm\n"
          ],
          "name": "stderr"
        }
      ]
    },
    {
      "cell_type": "markdown",
      "metadata": {
        "id": "Rd8E6wE2qBGB"
      },
      "source": [
        "Importing the boston data set from sklearn¶"
      ]
    },
    {
      "cell_type": "code",
      "metadata": {
        "id": "dp5jd3nBpOje"
      },
      "source": [
        "# load the boston data\n",
        "boston = load_boston()\n",
        "data = boston.data    \n",
        "boston_data = pd.DataFrame(data)"
      ],
      "execution_count": null,
      "outputs": []
    },
    {
      "cell_type": "code",
      "metadata": {
        "id": "VBoZ5s1_qML5",
        "colab": {
          "base_uri": "https://localhost:8080/",
          "height": 191
        },
        "outputId": "89ed1bfe-364d-4d2c-f747-bb9a811af86b"
      },
      "source": [
        "boston_data.head()"
      ],
      "execution_count": null,
      "outputs": [
        {
          "output_type": "execute_result",
          "data": {
            "text/html": [
              "<div>\n",
              "<style scoped>\n",
              "    .dataframe tbody tr th:only-of-type {\n",
              "        vertical-align: middle;\n",
              "    }\n",
              "\n",
              "    .dataframe tbody tr th {\n",
              "        vertical-align: top;\n",
              "    }\n",
              "\n",
              "    .dataframe thead th {\n",
              "        text-align: right;\n",
              "    }\n",
              "</style>\n",
              "<table border=\"1\" class=\"dataframe\">\n",
              "  <thead>\n",
              "    <tr style=\"text-align: right;\">\n",
              "      <th></th>\n",
              "      <th>0</th>\n",
              "      <th>1</th>\n",
              "      <th>2</th>\n",
              "      <th>3</th>\n",
              "      <th>4</th>\n",
              "      <th>5</th>\n",
              "      <th>6</th>\n",
              "      <th>7</th>\n",
              "      <th>8</th>\n",
              "      <th>9</th>\n",
              "      <th>10</th>\n",
              "      <th>11</th>\n",
              "      <th>12</th>\n",
              "    </tr>\n",
              "  </thead>\n",
              "  <tbody>\n",
              "    <tr>\n",
              "      <th>0</th>\n",
              "      <td>0.00632</td>\n",
              "      <td>18.0</td>\n",
              "      <td>2.31</td>\n",
              "      <td>0.0</td>\n",
              "      <td>0.538</td>\n",
              "      <td>6.575</td>\n",
              "      <td>65.2</td>\n",
              "      <td>4.0900</td>\n",
              "      <td>1.0</td>\n",
              "      <td>296.0</td>\n",
              "      <td>15.3</td>\n",
              "      <td>396.90</td>\n",
              "      <td>4.98</td>\n",
              "    </tr>\n",
              "    <tr>\n",
              "      <th>1</th>\n",
              "      <td>0.02731</td>\n",
              "      <td>0.0</td>\n",
              "      <td>7.07</td>\n",
              "      <td>0.0</td>\n",
              "      <td>0.469</td>\n",
              "      <td>6.421</td>\n",
              "      <td>78.9</td>\n",
              "      <td>4.9671</td>\n",
              "      <td>2.0</td>\n",
              "      <td>242.0</td>\n",
              "      <td>17.8</td>\n",
              "      <td>396.90</td>\n",
              "      <td>9.14</td>\n",
              "    </tr>\n",
              "    <tr>\n",
              "      <th>2</th>\n",
              "      <td>0.02729</td>\n",
              "      <td>0.0</td>\n",
              "      <td>7.07</td>\n",
              "      <td>0.0</td>\n",
              "      <td>0.469</td>\n",
              "      <td>7.185</td>\n",
              "      <td>61.1</td>\n",
              "      <td>4.9671</td>\n",
              "      <td>2.0</td>\n",
              "      <td>242.0</td>\n",
              "      <td>17.8</td>\n",
              "      <td>392.83</td>\n",
              "      <td>4.03</td>\n",
              "    </tr>\n",
              "    <tr>\n",
              "      <th>3</th>\n",
              "      <td>0.03237</td>\n",
              "      <td>0.0</td>\n",
              "      <td>2.18</td>\n",
              "      <td>0.0</td>\n",
              "      <td>0.458</td>\n",
              "      <td>6.998</td>\n",
              "      <td>45.8</td>\n",
              "      <td>6.0622</td>\n",
              "      <td>3.0</td>\n",
              "      <td>222.0</td>\n",
              "      <td>18.7</td>\n",
              "      <td>394.63</td>\n",
              "      <td>2.94</td>\n",
              "    </tr>\n",
              "    <tr>\n",
              "      <th>4</th>\n",
              "      <td>0.06905</td>\n",
              "      <td>0.0</td>\n",
              "      <td>2.18</td>\n",
              "      <td>0.0</td>\n",
              "      <td>0.458</td>\n",
              "      <td>7.147</td>\n",
              "      <td>54.2</td>\n",
              "      <td>6.0622</td>\n",
              "      <td>3.0</td>\n",
              "      <td>222.0</td>\n",
              "      <td>18.7</td>\n",
              "      <td>396.90</td>\n",
              "      <td>5.33</td>\n",
              "    </tr>\n",
              "  </tbody>\n",
              "</table>\n",
              "</div>"
            ],
            "text/plain": [
              "        0     1     2    3      4   ...   8      9     10      11    12\n",
              "0  0.00632  18.0  2.31  0.0  0.538  ...  1.0  296.0  15.3  396.90  4.98\n",
              "1  0.02731   0.0  7.07  0.0  0.469  ...  2.0  242.0  17.8  396.90  9.14\n",
              "2  0.02729   0.0  7.07  0.0  0.469  ...  2.0  242.0  17.8  392.83  4.03\n",
              "3  0.03237   0.0  2.18  0.0  0.458  ...  3.0  222.0  18.7  394.63  2.94\n",
              "4  0.06905   0.0  2.18  0.0  0.458  ...  3.0  222.0  18.7  396.90  5.33\n",
              "\n",
              "[5 rows x 13 columns]"
            ]
          },
          "metadata": {
            "tags": []
          },
          "execution_count": 3
        }
      ]
    },
    {
      "cell_type": "code",
      "metadata": {
        "id": "fDVMeqf6qOFT"
      },
      "source": [
        "# defining dependent and Independent Variables\n",
        "X = boston_data\n",
        "Y = boston.target"
      ],
      "execution_count": null,
      "outputs": []
    },
    {
      "cell_type": "code",
      "metadata": {
        "id": "f7Uf7krhqiyn"
      },
      "source": [
        "# Standardize the data the whole data i.e in X\n",
        "scaler = StandardScaler()\n",
        "standardized_X = scaler.fit_transform(X)"
      ],
      "execution_count": null,
      "outputs": []
    },
    {
      "cell_type": "markdown",
      "metadata": {
        "id": "QGSyxQPQq73n"
      },
      "source": [
        "# SGDRegressor for Linear Regression using sklearn i.e using Library"
      ]
    },
    {
      "cell_type": "code",
      "metadata": {
        "id": "Xc-zK9Ruqwuq"
      },
      "source": [
        "from sklearn import linear_model\n",
        "\n",
        "model = linear_model.SGDRegressor()\n",
        "model.fit(standardized_X,Y)\n",
        "\n",
        "Y_pred = model.predict(standardized_X)"
      ],
      "execution_count": null,
      "outputs": []
    },
    {
      "cell_type": "markdown",
      "metadata": {
        "id": "Y3ocnIcErilN"
      },
      "source": [
        "# Optimal Weights and Intercept using sklearn SGD"
      ]
    },
    {
      "cell_type": "code",
      "metadata": {
        "id": "yyJDD0Y5rezU",
        "colab": {
          "base_uri": "https://localhost:8080/",
          "height": 293
        },
        "outputId": "f5acd589-e778-47f8-eacb-34d322742fe9"
      },
      "source": [
        "from numpy import c_\n",
        "print('Optimal Weights for sklearn SGD:\\n')\n",
        "print(c_[model.coef_])\n",
        "\n",
        "print('\\nIntercept for sklearn SGD:',model.intercept_)"
      ],
      "execution_count": null,
      "outputs": [
        {
          "output_type": "stream",
          "text": [
            "Optimal Weights for sklearn SGD:\n",
            "\n",
            "[[-0.87503664]\n",
            " [ 1.00878606]\n",
            " [-0.04510195]\n",
            " [ 0.69002499]\n",
            " [-1.97467587]\n",
            " [ 2.7107214 ]\n",
            " [-0.00624996]\n",
            " [-3.09515111]\n",
            " [ 2.18143532]\n",
            " [-1.52397793]\n",
            " [-2.02855591]\n",
            " [ 0.83880748]\n",
            " [-3.72081858]]\n",
            "\n",
            "Intercept for sklearn SGD: [22.52937732]\n"
          ],
          "name": "stdout"
        }
      ]
    },
    {
      "cell_type": "code",
      "metadata": {
        "id": "G2cvGXDrsIPj",
        "colab": {
          "base_uri": "https://localhost:8080/",
          "height": 295
        },
        "outputId": "803616f4-0ea0-4fb2-9b6f-1e1f85b4eefd"
      },
      "source": [
        "# visualizing the results\n",
        "import matplotlib.pyplot as plt\n",
        "plt.scatter(Y, Y_pred)\n",
        "plt.xlabel(\"Prices: Y\")\n",
        "plt.ylabel(\"Predicted prices: Y_Pred\")\n",
        "plt.title(\"Prices vs Predicted prices\")\n",
        "plt.show()"
      ],
      "execution_count": null,
      "outputs": [
        {
          "output_type": "display_data",
          "data": {
            "image/png": "[encoded data removed]",
            "text/plain": [
              "<Figure size 432x288 with 1 Axes>"
            ]
          },
          "metadata": {
            "tags": [],
            "needs_background": "light"
          }
        }
      ]
    },
    {
      "cell_type": "code",
      "metadata": {
        "id": "DPuVeiewshN9",
        "colab": {
          "base_uri": "https://localhost:8080/",
          "height": 297
        },
        "outputId": "f6778e7f-59e1-4485-d948-7e6077bceedf"
      },
      "source": [
        "# plotting Error\n",
        "sns.set_style('whitegrid')\n",
        "sns.kdeplot((Y_pred-Y))\n",
        "plt.title(\"Error plot for sklearn SGD\")"
      ],
      "execution_count": null,
      "outputs": [
        {
          "output_type": "execute_result",
          "data": {
            "text/plain": [
              "Text(0.5, 1.0, 'Error plot for sklearn SGD')"
            ]
          },
          "metadata": {
            "tags": []
          },
          "execution_count": 9
        },
        {
          "output_type": "display_data",
          "data": {
            "image/png": "[encoded data removed]",
            "text/plain": [
              "<Figure size 432x288 with 1 Axes>"
            ]
          },
          "metadata": {
            "tags": []
          }
        }
      ]
    },
    {
      "cell_type": "code",
      "metadata": {
        "id": "SfJ8C9WYsr3i",
        "colab": {
          "base_uri": "https://localhost:8080/",
          "height": 33
        },
        "outputId": "fba89190-7eef-410f-e6f6-62a76c845ddd"
      },
      "source": [
        "#computing Mean Square Error\n",
        "MSE_sklearn = mean_squared_error(Y, Y_pred)\n",
        "print(\"MSE for SGD Sklearn \",MSE_sklearn)"
      ],
      "execution_count": null,
      "outputs": [
        {
          "output_type": "stream",
          "text": [
            "MSE for SGD Sklearn  21.93746668720657\n"
          ],
          "name": "stdout"
        }
      ]
    },
    {
      "cell_type": "markdown",
      "metadata": {
        "id": "ZkRcj4pztL9_"
      },
      "source": [
        "# SGDRegressor for Linear Regression from Scratch"
      ]
    },
    {
      "cell_type": "code",
      "metadata": {
        "id": "NUMSduYdtBnJ"
      },
      "source": [
        "# SGDRegressor for linear regression from scratch which compututes optimal w and MSE \n",
        "def SGD_fun(X,y,weight,learning_rate=0.01,iterations=10):\n",
        "    \"\"\"Fun to compute the optimal weight and intercept\"\"\"\n",
        "    m = len(y) #  length of the data set\n",
        "    \n",
        "    for i in range(iterations): # iteration \n",
        "        sum_error = 0\n",
        "        \n",
        "        for j in range(m):\n",
        "            batch_size = np.random.randint(0,m)  # random batch size for every iteration i.e k batch_size \n",
        "            X_i = X[batch_size,:].reshape(1,X.shape[1])\n",
        "            y_i = y[batch_size].reshape(1,1)\n",
        "            prediction = np.dot(X_i,weight)\n",
        "            \n",
        "            #-------- error ---------\n",
        "            error = prediction - y_i \n",
        "            sum_error += error**2\n",
        "            #--------- error ---------\n",
        "            \n",
        "            weight = weight -(2/m)*learning_rate*( X_i.T.dot((prediction - y_i)))\n",
        "        \n",
        "        print('>epoch=%d, lrate=%.3f, error=%.3f' % (i, learning_rate, sum_error/m))\n",
        "                \n",
        "    return weight"
      ],
      "execution_count": null,
      "outputs": []
    },
    {
      "cell_type": "code",
      "metadata": {
        "id": "sFNjZpLctb_r"
      },
      "source": [
        "def predict_fun(X_b,weight):\n",
        "    \"\"\"Fun to predict y using data x and weight\"\"\"\n",
        "    y_pred = X_b.dot(weight)\n",
        "    y_pred = y_pred.ravel()\n",
        "    return y_pred"
      ],
      "execution_count": null,
      "outputs": []
    },
    {
      "cell_type": "code",
      "metadata": {
        "id": "HtlUQJQztw0N"
      },
      "source": [
        "learning_rate =0.2 #learning_rate\n",
        "n_iter = 100 #no. of iterations\n",
        "\n",
        "weight = np.random.randn(14,1) #picking the initial random weight and intercept  \n",
        "\n",
        "X_train = np.c_[np.ones((len(standardized_X),1)),standardized_X] "
      ],
      "execution_count": null,
      "outputs": []
    },
    {
      "cell_type": "code",
      "metadata": {
        "id": "xZaL_98EuI7_",
        "colab": {
          "base_uri": "https://localhost:8080/",
          "height": 1000
        },
        "outputId": "8a64add8-950b-40a0-e8be-6edc40a4d93e"
      },
      "source": [
        "optimal_weight = SGD_fun(X_train,Y,weight,learning_rate,n_iter)"
      ],
      "execution_count": null,
      "outputs": [
        {
          "output_type": "stream",
          "text": [
            ">epoch=0, lrate=0.200, error=463.562\n",
            ">epoch=1, lrate=0.200, error=246.452\n",
            ">epoch=2, lrate=0.200, error=99.013\n",
            ">epoch=3, lrate=0.200, error=69.866\n",
            ">epoch=4, lrate=0.200, error=37.899\n",
            ">epoch=5, lrate=0.200, error=40.021\n",
            ">epoch=6, lrate=0.200, error=27.938\n",
            ">epoch=7, lrate=0.200, error=27.374\n",
            ">epoch=8, lrate=0.200, error=22.631\n",
            ">epoch=9, lrate=0.200, error=24.277\n",
            ">epoch=10, lrate=0.200, error=15.635\n",
            ">epoch=11, lrate=0.200, error=29.714\n",
            ">epoch=12, lrate=0.200, error=21.680\n",
            ">epoch=13, lrate=0.200, error=17.746\n",
            ">epoch=14, lrate=0.200, error=26.466\n",
            ">epoch=15, lrate=0.200, error=23.030\n",
            ">epoch=16, lrate=0.200, error=20.785\n",
            ">epoch=17, lrate=0.200, error=16.121\n",
            ">epoch=18, lrate=0.200, error=20.950\n",
            ">epoch=19, lrate=0.200, error=18.972\n",
            ">epoch=20, lrate=0.200, error=19.598\n",
            ">epoch=21, lrate=0.200, error=23.488\n",
            ">epoch=22, lrate=0.200, error=27.867\n",
            ">epoch=23, lrate=0.200, error=21.380\n",
            ">epoch=24, lrate=0.200, error=25.793\n",
            ">epoch=25, lrate=0.200, error=20.890\n",
            ">epoch=26, lrate=0.200, error=18.780\n",
            ">epoch=27, lrate=0.200, error=21.795\n",
            ">epoch=28, lrate=0.200, error=19.235\n",
            ">epoch=29, lrate=0.200, error=24.898\n",
            ">epoch=30, lrate=0.200, error=23.035\n",
            ">epoch=31, lrate=0.200, error=22.399\n",
            ">epoch=32, lrate=0.200, error=23.250\n",
            ">epoch=33, lrate=0.200, error=22.235\n",
            ">epoch=34, lrate=0.200, error=21.192\n",
            ">epoch=35, lrate=0.200, error=25.067\n",
            ">epoch=36, lrate=0.200, error=22.023\n",
            ">epoch=37, lrate=0.200, error=21.229\n",
            ">epoch=38, lrate=0.200, error=24.742\n",
            ">epoch=39, lrate=0.200, error=19.935\n",
            ">epoch=40, lrate=0.200, error=29.347\n",
            ">epoch=41, lrate=0.200, error=20.212\n",
            ">epoch=42, lrate=0.200, error=22.122\n",
            ">epoch=43, lrate=0.200, error=21.236\n",
            ">epoch=44, lrate=0.200, error=22.912\n",
            ">epoch=45, lrate=0.200, error=22.568\n",
            ">epoch=46, lrate=0.200, error=20.344\n",
            ">epoch=47, lrate=0.200, error=15.832\n",
            ">epoch=48, lrate=0.200, error=20.031\n",
            ">epoch=49, lrate=0.200, error=17.764\n",
            ">epoch=50, lrate=0.200, error=20.579\n",
            ">epoch=51, lrate=0.200, error=19.889\n",
            ">epoch=52, lrate=0.200, error=21.641\n",
            ">epoch=53, lrate=0.200, error=21.915\n",
            ">epoch=54, lrate=0.200, error=18.202\n",
            ">epoch=55, lrate=0.200, error=19.243\n",
            ">epoch=56, lrate=0.200, error=21.709\n",
            ">epoch=57, lrate=0.200, error=22.670\n",
            ">epoch=58, lrate=0.200, error=21.677\n",
            ">epoch=59, lrate=0.200, error=18.783\n",
            ">epoch=60, lrate=0.200, error=17.852\n",
            ">epoch=61, lrate=0.200, error=18.955\n",
            ">epoch=62, lrate=0.200, error=24.095\n",
            ">epoch=63, lrate=0.200, error=24.134\n",
            ">epoch=64, lrate=0.200, error=20.951\n",
            ">epoch=65, lrate=0.200, error=19.933\n",
            ">epoch=66, lrate=0.200, error=20.870\n",
            ">epoch=67, lrate=0.200, error=27.057\n",
            ">epoch=68, lrate=0.200, error=19.686\n",
            ">epoch=69, lrate=0.200, error=21.499\n",
            ">epoch=70, lrate=0.200, error=20.634\n",
            ">epoch=71, lrate=0.200, error=18.755\n",
            ">epoch=72, lrate=0.200, error=23.633\n",
            ">epoch=73, lrate=0.200, error=20.388\n",
            ">epoch=74, lrate=0.200, error=21.077\n",
            ">epoch=75, lrate=0.200, error=23.146\n",
            ">epoch=76, lrate=0.200, error=22.822\n",
            ">epoch=77, lrate=0.200, error=19.281\n",
            ">epoch=78, lrate=0.200, error=25.489\n",
            ">epoch=79, lrate=0.200, error=19.636\n",
            ">epoch=80, lrate=0.200, error=21.872\n",
            ">epoch=81, lrate=0.200, error=21.113\n",
            ">epoch=82, lrate=0.200, error=21.503\n",
            ">epoch=83, lrate=0.200, error=22.471\n",
            ">epoch=84, lrate=0.200, error=24.430\n",
            ">epoch=85, lrate=0.200, error=13.616\n",
            ">epoch=86, lrate=0.200, error=18.988\n",
            ">epoch=87, lrate=0.200, error=21.515\n",
            ">epoch=88, lrate=0.200, error=21.165\n",
            ">epoch=89, lrate=0.200, error=17.697\n",
            ">epoch=90, lrate=0.200, error=20.386\n",
            ">epoch=91, lrate=0.200, error=25.149\n",
            ">epoch=92, lrate=0.200, error=24.715\n",
            ">epoch=93, lrate=0.200, error=22.370\n",
            ">epoch=94, lrate=0.200, error=17.598\n",
            ">epoch=95, lrate=0.200, error=19.156\n",
            ">epoch=96, lrate=0.200, error=22.440\n",
            ">epoch=97, lrate=0.200, error=22.078\n",
            ">epoch=98, lrate=0.200, error=22.960\n",
            ">epoch=99, lrate=0.200, error=23.560\n"
          ],
          "name": "stdout"
        }
      ]
    },
    {
      "cell_type": "markdown",
      "metadata": {
        "id": "aiYBzSlZuk3T"
      },
      "source": [
        "# Optimal Weights and Intercept without using sklearn SGD"
      ]
    },
    {
      "cell_type": "code",
      "metadata": {
        "id": "ptt-F12BuRJP",
        "colab": {
          "base_uri": "https://localhost:8080/",
          "height": 293
        },
        "outputId": "63b0cb2e-8004-486e-9739-7b8b71c86642"
      },
      "source": [
        "print('Optimal Weights without using Sklearn SGD:\\n')\n",
        "print(optimal_weight[1:])\n",
        "\n",
        "print('\\nIntercept without using Sklearn SGD:  {:f}'.format(optimal_weight[0][0]))"
      ],
      "execution_count": null,
      "outputs": [
        {
          "output_type": "stream",
          "text": [
            "Optimal Weights without using Sklearn SGD:\n",
            "\n",
            "[[-0.96596902]\n",
            " [ 1.11421404]\n",
            " [ 0.04323777]\n",
            " [ 0.89447038]\n",
            " [-2.02793857]\n",
            " [ 2.56795752]\n",
            " [-0.00750362]\n",
            " [-3.05554055]\n",
            " [ 2.25290304]\n",
            " [-1.90334442]\n",
            " [-1.97749233]\n",
            " [ 0.83628909]\n",
            " [-3.87557471]]\n",
            "\n",
            "Intercept without using Sklearn SGD:  22.517075\n"
          ],
          "name": "stdout"
        }
      ]
    },
    {
      "cell_type": "markdown",
      "metadata": {
        "id": "pe74zocCvMBE"
      },
      "source": [
        "# Getting Predicted Y using optimal weight for data set X_train"
      ]
    },
    {
      "cell_type": "code",
      "metadata": {
        "id": "lR_n3B4oux29"
      },
      "source": [
        "y_predicted = predict_fun(X_train,optimal_weight)"
      ],
      "execution_count": null,
      "outputs": []
    },
    {
      "cell_type": "code",
      "metadata": {
        "id": "cKj5uO-zvQfq",
        "colab": {
          "base_uri": "https://localhost:8080/",
          "height": 295
        },
        "outputId": "b03a3c59-1335-498a-e2eb-07fba949d93d"
      },
      "source": [
        "# visualizing the results\n",
        "import matplotlib.pyplot as plt\n",
        "plt.scatter(Y, y_predicted)\n",
        "plt.xlabel(\"Prices: Y\")\n",
        "plt.ylabel(\"Predicted prices: Y_Pred\")\n",
        "plt.title(\"Prices vs Predicted prices\")\n",
        "plt.show()"
      ],
      "execution_count": null,
      "outputs": [
        {
          "output_type": "display_data",
          "data": {
            "image/png": "[encoded data removed]",
            "text/plain": [
              "<Figure size 432x288 with 1 Axes>"
            ]
          },
          "metadata": {
            "tags": []
          }
        }
      ]
    },
    {
      "cell_type": "code",
      "metadata": {
        "id": "3ty8G9Lvvewk",
        "colab": {
          "base_uri": "https://localhost:8080/",
          "height": 297
        },
        "outputId": "ea953bc3-db3b-4eb8-f3ae-047187f9637f"
      },
      "source": [
        "# plotting Error\n",
        "sns.set_style('whitegrid')\n",
        "sns.kdeplot((y_predicted-Y))\n",
        "plt.title(\"Error plot for sklearn SGD\")"
      ],
      "execution_count": null,
      "outputs": [
        {
          "output_type": "execute_result",
          "data": {
            "text/plain": [
              "Text(0.5, 1.0, 'Error plot for sklearn SGD')"
            ]
          },
          "metadata": {
            "tags": []
          },
          "execution_count": 18
        },
        {
          "output_type": "display_data",
          "data": {
            "image/png": "[encoded data removed]",
            "text/plain": [
              "<Figure size 432x288 with 1 Axes>"
            ]
          },
          "metadata": {
            "tags": []
          }
        }
      ]
    },
    {
      "cell_type": "code",
      "metadata": {
        "id": "G76n3gTDvm_e",
        "colab": {
          "base_uri": "https://localhost:8080/",
          "height": 33
        },
        "outputId": "a4aa0ab6-0f6b-4797-86a6-7f380e71375b"
      },
      "source": [
        "#computing Mean Square Error\n",
        "MSE_sklearn = mean_squared_error(Y, y_predicted)\n",
        "print(\"MSE for SGD Sklearn \",MSE_sklearn)"
      ],
      "execution_count": null,
      "outputs": [
        {
          "output_type": "stream",
          "text": [
            "MSE for SGD Sklearn  22.093600253378703\n"
          ],
          "name": "stdout"
        }
      ]
    },
    {
      "cell_type": "markdown",
      "metadata": {
        "id": "TswlbIjZwP0w"
      },
      "source": [
        "Comparing Sklearn SGD and Self Implemented SGD"
      ]
    },
    {
      "cell_type": "code",
      "metadata": {
        "id": "EQOz1H_IwKx9",
        "colab": {
          "base_uri": "https://localhost:8080/",
          "height": 297
        },
        "outputId": "61584524-6400-4f74-aa73-bf6b6b2cb83d"
      },
      "source": [
        "sklearn_pred = Y_pred \n",
        "self_pred = y_predicted\n",
        "sns.set_style('whitegrid')\n",
        "sns.kdeplot((sklearn_pred-self_pred))\n",
        "plt.title(\"Error plot for Sklearn SGD and Self Implemented SGD\")"
      ],
      "execution_count": null,
      "outputs": [
        {
          "output_type": "execute_result",
          "data": {
            "text/plain": [
              "Text(0.5, 1.0, 'Error plot for Sklearn SGD and Self Implemented SGD')"
            ]
          },
          "metadata": {
            "tags": []
          },
          "execution_count": 20
        },
        {
          "output_type": "display_data",
          "data": {
            "image/png": "[encoded data removed]",
            "text/plain": [
              "<Figure size 432x288 with 1 Axes>"
            ]
          },
          "metadata": {
            "tags": []
          }
        }
      ]
    },
    {
      "cell_type": "code",
      "metadata": {
        "id": "sx9tI_2UwY59",
        "colab": {
          "base_uri": "https://localhost:8080/",
          "height": 488
        },
        "outputId": "649526a2-2b1d-44a4-f963-5242fc552e34"
      },
      "source": [
        "#comparision of Both models weights\n",
        "\n",
        "print(\"Sklearn SGD optimal Weight\")\n",
        "print(c_[model.coef_])\n",
        "print(\"\\n Self implemented SGD optimal Weight\")\n",
        "print(optimal_weight[1:])"
      ],
      "execution_count": null,
      "outputs": [
        {
          "output_type": "stream",
          "text": [
            "Sklearn SGD optimal Weight\n",
            "[[-0.87503664]\n",
            " [ 1.00878606]\n",
            " [-0.04510195]\n",
            " [ 0.69002499]\n",
            " [-1.97467587]\n",
            " [ 2.7107214 ]\n",
            " [-0.00624996]\n",
            " [-3.09515111]\n",
            " [ 2.18143532]\n",
            " [-1.52397793]\n",
            " [-2.02855591]\n",
            " [ 0.83880748]\n",
            " [-3.72081858]]\n",
            "\n",
            " Self implemented SGD optimal Weight\n",
            "[[-0.96596902]\n",
            " [ 1.11421404]\n",
            " [ 0.04323777]\n",
            " [ 0.89447038]\n",
            " [-2.02793857]\n",
            " [ 2.56795752]\n",
            " [-0.00750362]\n",
            " [-3.05554055]\n",
            " [ 2.25290304]\n",
            " [-1.90334442]\n",
            " [-1.97749233]\n",
            " [ 0.83628909]\n",
            " [-3.87557471]]\n"
          ],
          "name": "stdout"
        }
      ]
    },
    {
      "cell_type": "code",
      "metadata": {
        "id": "RRPSGJMLos5S",
        "colab": {
          "base_uri": "https://localhost:8080/",
          "height": 66
        },
        "outputId": "5065180e-d1e7-425d-9c4f-9bc2664f07b2"
      },
      "source": [
        "# Intercept for both models\n",
        "print(\"Sklearn SGD optimal intercept\",model.intercept_)\n",
        "print(\"\\nSelf implemented SGD optimal intercept\",optimal_weight[0][0])"
      ],
      "execution_count": null,
      "outputs": [
        {
          "output_type": "stream",
          "text": [
            "Sklearn SGD optimal intercept [22.52937732]\n",
            "\n",
            "Self implemented SGD optimal intercept 22.517075262675274\n"
          ],
          "name": "stdout"
        }
      ]
    },
    {
      "cell_type": "markdown",
      "metadata": {
        "id": "mA3FBMcfo7Z4"
      },
      "source": [
        "# Conclusion\n",
        "As from above plot we can see that mean of the differences in the prediction of the two models  is at 0\n",
        "As we can see above intercept and weight(coef) is almost same for sklearn SGD and self implemented sgd\n"
      ]
    },
    {
      "cell_type": "code",
      "metadata": {
        "id": "QvSo9qJIpM-O",
        "colab": {
          "base_uri": "https://localhost:8080/",
          "height": 115
        },
        "outputId": "c006a198-97d3-4846-ce54-55aed5dfc730"
      },
      "source": [
        "from prettytable import PrettyTable\n",
        "x = PrettyTable()\n",
        "x.field_names = [\"SGD\",\"MSE\"]\n",
        "\n",
        "x.add_row([\"Sklearn\",22.879567149030688])\n",
        "x.add_row([\"without Sklearn\",22.0562556620678])\n",
        "\n",
        "print(x)"
      ],
      "execution_count": null,
      "outputs": [
        {
          "output_type": "stream",
          "text": [
            "+-----------------+--------------------+\n",
            "|       SGD       |        MSE         |\n",
            "+-----------------+--------------------+\n",
            "|     Sklearn     | 22.879567149030688 |\n",
            "| without Sklearn |  22.0562556620678  |\n",
            "+-----------------+--------------------+\n"
          ],
          "name": "stdout"
        }
      ]
    }
  ]
}